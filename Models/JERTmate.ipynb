{
 "cells": [
  {
   "cell_type": "markdown",
   "metadata": {},
   "source": [
    "# Joint Bert Model for slot and intent classification"
   ]
  },
  {
   "cell_type": "markdown",
   "metadata": {},
   "source": [
    "### Imports"
   ]
  },
  {
   "cell_type": "code",
   "execution_count": 6,
   "metadata": {},
   "outputs": [
    {
     "name": "stderr",
     "output_type": "stream",
     "text": [
      "2024/10/06 13:55:29 INFO mlflow.utils.credentials: Successfully connected to MLflow hosted tracking server! Host: https://community.cloud.databricks.com.\n"
     ]
    }
   ],
   "source": [
    "import json\n",
    "import os\n",
    "import re\n",
    "import numpy as np\n",
    "from collections import defaultdict\n",
    "from sklearn.model_selection import train_test_split\n",
    "import tensorflow as tf\n",
    "from tensorflow import keras\n",
    "from transformers import TFBertModel\n",
    "from tensorflow.keras.layers import Dropout, Dense, Flatten, Reshape\n",
    "from tensorflow.keras.optimizers import Adam\n",
    "from tensorflow.keras.callbacks import ModelCheckpoint, LearningRateScheduler\n",
    "from tensorflow.keras.losses import SparseCategoricalCrossentropy, CategoricalCrossentropy, BinaryCrossentropy\n",
    "from tensorflow.keras.metrics import SparseCategoricalAccuracy, CategoricalAccuracy, BinaryAccuracy\n",
    "\n",
    "model_name = \"bert-base-uncased\"\n",
    "\n",
    "# connect MLFlow\n",
    "import mlflow\n",
    "mlflow.login()\n",
    "\n",
    "# set the experiment id\n",
    "mlflow.set_experiment(experiment_id=\"1400101170489055\")\n",
    "\n",
    "mlflow.tensorflow.autolog()"
   ]
  },
  {
   "cell_type": "markdown",
   "metadata": {},
   "source": [
    "### Load Dataset"
   ]
  },
  {
   "cell_type": "code",
   "execution_count": 7,
   "metadata": {},
   "outputs": [],
   "source": [
    "inputs = []\n",
    "intentOutputs = []\n",
    "slotOutputs = []\n",
    "\n",
    "with open(\"../processing/JERTmate_final_data.json\", \"r\", encoding=\"utf-8\") as json_file:\n",
    "    data = json.load(json_file)\n",
    "\n",
    "    inputs = data[\"inputs\"]\n",
    "    intentOutputs = data[\"intentOutputs\"]\n",
    "    slotOutputs = data[\"slotOutputs\"]"
   ]
  },
  {
   "cell_type": "markdown",
   "metadata": {},
   "source": [
    "### Split Data - Train 80% | Validation 10% | Test 10%"
   ]
  },
  {
   "cell_type": "code",
   "execution_count": 8,
   "metadata": {},
   "outputs": [
    {
     "name": "stdout",
     "output_type": "stream",
     "text": [
      "58517\n",
      "(35110, 38)\n"
     ]
    }
   ],
   "source": [
    "def split_arrays(inputs, intentOutputs, slotOutputs, train_ratio, val_ratio, test_ratio):\n",
    "    assert len(inputs) == len(intentOutputs) == len(slotOutputs), \"All arrays must have the same length\"\n",
    "    \n",
    "    n_total = len(inputs)\n",
    "    n_train = int(n_total * train_ratio)\n",
    "    n_val = int(n_total * val_ratio)\n",
    "    \n",
    "    # split inputs\n",
    "    inputs_train, inputs_val, inputs_test = inputs[:n_train], inputs[n_train:n_train + n_val], inputs[n_train + n_val:]\n",
    "\n",
    "    # split intents\n",
    "    intentOutputs_train, intentOutputs_val, intentOutputs_test = intentOutputs[:n_train], intentOutputs[n_train:n_train + n_val], intentOutputs[n_train + n_val:]\n",
    "\n",
    "    # split slots\n",
    "    slot_type_map_train, slot_type_map_val, slot_type_map_test = [x[:50] for x in slotOutputs[:n_train]], [x[:50] for x in slotOutputs[n_train:n_train + n_val]], [x[:50] for x in slotOutputs[n_train + n_val:]]\n",
    "    slot_intent_map_train, slot_intent_map_val, slot_intent_map_test = [x[50:100] for x in slotOutputs[:n_train]], [x[50:100] for x in slotOutputs[n_train:n_train + n_val]], [x[50:100] for x in slotOutputs[n_train + n_val:]]\n",
    "    slot_action_map_train, slot_action_map_val, slot_action_map_test = [x[100:150] for x in slotOutputs[:n_train]], [x[100:150] for x in slotOutputs[n_train:n_train + n_val]], [x[100:150] for x in slotOutputs[n_train + n_val:]]\n",
    "    slot_pointers_map_train, slot_pointers_map_val, slot_pointers_map_test = [x[150:300] for x in slotOutputs[:n_train]], [x[150:300] for x in slotOutputs[n_train:n_train + n_val]], [x[150:300] for x in slotOutputs[n_train + n_val:]]\n",
    "    phantom_target_map_train, phantom_target_map_val, phantom_target_map_test = [x[300:305] for x in slotOutputs[:n_train]], [x[300:305] for x in slotOutputs[n_train:n_train + n_val]], [x[300:305] for x in slotOutputs[n_train + n_val:]]\n",
    "    phantom_intent_map_train, phantom_intent_map_val, phantom_intent_map_test = [x[305:310] for x in slotOutputs[:n_train]], [x[305:310] for x in slotOutputs[n_train:n_train + n_val]], [x[305:310] for x in slotOutputs[n_train + n_val:]]\n",
    "    phantom_action_map_train, phantom_action_map_val, phantom_action_map_test = [x[310:315] for x in slotOutputs[:n_train]], [x[310:315] for x in slotOutputs[n_train:n_train + n_val]], [x[310:315] for x in slotOutputs[n_train + n_val:]]\n",
    "    phantom_pointers_map_train, phantom_pointers_map_val, phantom_pointers_map_test = [x[315:] for x in slotOutputs[:n_train]], [x[315:] for x in slotOutputs[n_train:n_train + n_val]], [x[315:] for x in slotOutputs[n_train + n_val:]]\n",
    "\n",
    "    \n",
    "    return (tf.constant(inputs_train), tf.constant(inputs_val), tf.constant(inputs_test)), (tf.constant(intentOutputs_train), tf.constant(intentOutputs_val), tf.constant(intentOutputs_test)), (tf.constant(slot_type_map_train), tf.constant(slot_type_map_val), tf.constant(slot_type_map_test)), (tf.constant(slot_intent_map_train), tf.constant(slot_intent_map_val), tf.constant(slot_intent_map_test)), (tf.constant(slot_action_map_train), tf.constant(slot_action_map_val), tf.constant(slot_action_map_test)), (tf.constant(slot_pointers_map_train), tf.constant(slot_pointers_map_val), tf.constant(slot_pointers_map_test)), (tf.constant(phantom_target_map_train), tf.constant(phantom_target_map_val), tf.constant(phantom_target_map_test)), (tf.constant(phantom_intent_map_train), tf.constant(phantom_intent_map_val), tf.constant(phantom_intent_map_test)), (tf.constant(phantom_action_map_train), tf.constant(phantom_action_map_val), tf.constant(phantom_action_map_test)), (tf.constant(phantom_pointers_map_train), tf.constant(phantom_pointers_map_val), tf.constant(phantom_pointers_map_test))\n",
    "\n",
    "\n",
    "train_ratio = 0.6\n",
    "val_ratio = 0.2\n",
    "test_ratio = 0.2\n",
    "\n",
    "print(len(inputs))\n",
    "\n",
    "(inputs_train, inputs_val, inputs_test), (intentOutputs_train, intentOutputs_val, intentOutputs_test), (slot_type_map_train, slot_type_map_val, slot_type_map_test), (slot_intent_map_train, slot_intent_map_val, slot_intent_map_test), (slot_action_map_train, slot_action_map_val, slot_action_map_test), (slot_pointers_map_train, slot_pointers_map_val, slot_pointers_map_test), (phantom_target_map_train, phantom_target_map_val, phantom_target_map_test), (phantom_intent_map_train, phantom_intent_map_val, phantom_intent_map_test), (phantom_action_map_train, phantom_action_map_val, phantom_action_map_test), (phantom_pointers_map_train, phantom_pointers_map_val, phantom_pointers_map_test) = split_arrays(inputs, intentOutputs, slotOutputs, train_ratio, val_ratio, test_ratio)\n",
    "\n",
    "print(intentOutputs_train.shape)"
   ]
  },
  {
   "cell_type": "markdown",
   "metadata": {},
   "source": [
    "### Define Model"
   ]
  },
  {
   "cell_type": "code",
   "execution_count": 9,
   "metadata": {},
   "outputs": [
    {
     "name": "stderr",
     "output_type": "stream",
     "text": [
      "Some weights of the PyTorch model were not used when initializing the TF 2.0 model TFBertModel: ['cls.predictions.transform.LayerNorm.weight', 'cls.predictions.transform.dense.bias', 'cls.predictions.transform.LayerNorm.bias', 'cls.seq_relationship.weight', 'cls.seq_relationship.bias', 'cls.predictions.transform.dense.weight', 'cls.predictions.bias']\n",
      "- This IS expected if you are initializing TFBertModel from a PyTorch model trained on another task or with another architecture (e.g. initializing a TFBertForSequenceClassification model from a BertForPreTraining model).\n",
      "- This IS NOT expected if you are initializing TFBertModel from a PyTorch model that you expect to be exactly identical (e.g. initializing a TFBertForSequenceClassification model from a BertForSequenceClassification model).\n",
      "All the weights of TFBertModel were initialized from the PyTorch model.\n",
      "If your task is similar to the task the model of the checkpoint was trained on, you can already use TFBertModel for predictions without further training.\n"
     ]
    }
   ],
   "source": [
    "class JointIntentAndSlotFillingModel(tf.keras.Model):\n",
    "\n",
    "    def __init__(self, intent_vector_length=None, total_slot_number=None, total_phantom_slot_number=None, slot_types=None, slot_intents=None, pointer_possibilities=None, model_name=model_name, dropout_prob=0.08):\n",
    "        super().__init__(name=\"joint_intent_slot\")\n",
    "        #   ** GENERAL LAYERS **\n",
    "        self.bert = TFBertModel.from_pretrained(model_name) # BERT model\n",
    "        self.dropout = Dropout(dropout_prob) # basic dropout layer\n",
    "        self.flatten = Flatten() # flatten layer\n",
    "\n",
    "\n",
    "\n",
    "        #   ** SLOT LAYERS **\n",
    "        # LHS compressor\n",
    "        #?self.conv_layer = tf.keras.layers.Conv2D(filters=1, kernel_size=(1, 768), strides=(1, 1),padding='valid',activation='relu')\n",
    "        self.last_hidden_sequence_compressor = Dense(450, activation=\"relu\", name=\"last_hidden_sequence_compressor\")\n",
    "\n",
    "        # processing layers\n",
    "        #?self.slot_processor = Dense(((150) + (intent_vector_length * 2) + (slot_vector_length * 2)), activation=\"relu\", name=\"slot_processor\")\n",
    "\n",
    "        # slot output layers\n",
    "        self.slot_type_dense = Dense(total_slot_number * slot_types, activation='softmax', name=\"slot_type_output\")\n",
    "        self.slot_type_reshape = Reshape((total_slot_number, slot_types))\n",
    "        \n",
    "        self.slot_intent_dense = Dense(total_slot_number * slot_intents, activation='softmax', name=\"slot_intent_output\")\n",
    "        self.slot_intent_reshape = Reshape((total_slot_number, slot_intents))\n",
    "        \n",
    "        self.slot_action_output = Dense(total_slot_number, activation='sigmoid', name=\"slot_action_output\")\n",
    "        \n",
    "        self.slot_pointers_dense = Dense(total_slot_number * pointer_possibilities * 3, activation='softmax', name=\"slot_pointers_output\")\n",
    "        self.slot_pointers_reshape = Reshape((total_slot_number * 3, pointer_possibilities))\n",
    "\n",
    "        # Phantom slot output layers\n",
    "        self.phantom_slot_target_dense = Dense(total_phantom_slot_number * pointer_possibilities, activation='softmax', name=\"phantom_slot_target_output\")\n",
    "        self.phantom_slot_target_reshape = Reshape((total_phantom_slot_number, pointer_possibilities))\n",
    "        \n",
    "        self.phantom_slot_intent_dense = Dense(total_phantom_slot_number * slot_intents, activation='softmax', name=\"phantom_slot_intent_output\")\n",
    "        self.phantom_slot_intent_reshape = Reshape((total_phantom_slot_number, slot_intents))\n",
    "        \n",
    "        self.phantom_slot_action_output = Dense(total_phantom_slot_number, activation='sigmoid', name=\"phantom_slot_action_output\")\n",
    "        \n",
    "        self.phantom_slot_pointers_dense = Dense(total_phantom_slot_number * pointer_possibilities * 3, activation='softmax', name=\"phantom_slot_pointers_output\")\n",
    "        self.phantom_slot_pointers_reshape = Reshape((total_phantom_slot_number * 3, pointer_possibilities))\n",
    "\n",
    "\n",
    "\n",
    "        #  ** INTENT LAYERS **\n",
    "        # processing layers\n",
    "        #?self.intent_processor = Dense(((150 * 1) + (intent_vector_length * 2)), activation=\"relu\", name=\"intent_processor\")\n",
    "\n",
    "        # output layer\n",
    "        self.intent_output = Dense(intent_vector_length, activation='softmax', name=\"intent_output\")\n",
    "\n",
    "    def __call__(self, inputs, **kwargs):\n",
    "        # run BERT\n",
    "        trained_bert = self.bert(inputs[:, :150], **kwargs)\n",
    "        pooled_output = trained_bert.pooler_output\n",
    "        sequence_output = trained_bert.last_hidden_state\n",
    "\n",
    "        #   ** SLOT CLASSIFICATION **\n",
    "        # reduce dimensionality of sequence output - Dense(150)\n",
    "        flattened_sequence_output = self.flatten(sequence_output)\n",
    "        LHSC_output = self.last_hidden_sequence_compressor(flattened_sequence_output)\n",
    "\n",
    "        # slot processor\n",
    "        #slot_processor_input = self.dropout(tf.concat([LHSC_output, tf.cast(inputs[:, 150:], dtype=tf.float32)], axis=-1), training=kwargs.get(\"training\", False))\n",
    "        #slot_processor_output = self.slot_processor(slot_processor_input)\n",
    "\n",
    "        # slot output\n",
    "        slot_output_input = self.dropout(tf.concat([LHSC_output, tf.cast(inputs[:, 150:], dtype=tf.float32)], axis=-1), training=kwargs.get(\"training\", False))\n",
    "        \n",
    "        slot_type_output = self.slot_type_dense(slot_output_input)\n",
    "        slot_type_output = self.slot_type_reshape(slot_type_output)\n",
    "        \n",
    "        slot_intent_output = self.slot_intent_dense(slot_output_input)\n",
    "        slot_intent_output = self.slot_intent_reshape(slot_intent_output)\n",
    "        \n",
    "        slot_action_output = self.slot_action_output(slot_output_input)\n",
    "        \n",
    "        slot_pointers_output = self.slot_pointers_dense(slot_output_input)\n",
    "        slot_pointers_output = self.slot_pointers_reshape(slot_pointers_output)\n",
    "\n",
    "        # Phantom slot outputs\n",
    "        phantom_target_output = self.phantom_slot_target_dense(slot_output_input)\n",
    "        phantom_target_output = self.phantom_slot_target_reshape(phantom_target_output)\n",
    "        \n",
    "        phantom_intent_output = self.phantom_slot_intent_dense(slot_output_input)\n",
    "        phantom_intent_output = self.phantom_slot_intent_reshape(phantom_intent_output)\n",
    "        \n",
    "        phantom_action_output = self.phantom_slot_action_output(slot_output_input)\n",
    "        \n",
    "        phantom_pointers_output = self.phantom_slot_pointers_dense(slot_output_input)\n",
    "        phantom_pointers_output = self.phantom_slot_pointers_reshape(phantom_pointers_output)\n",
    "\n",
    "\n",
    "\n",
    "        #   ** INTENT CLASSIFICATION **\n",
    "        # intent processor\n",
    "        #intent_processor_input = self.dropout(tf.concat([pooled_output, tf.cast(inputs[:, 150:150 + 114], dtype=tf.float32)], axis=-1), training=kwargs.get(\"training\", False))\n",
    "        #intent_processor_output = self.intent_processor(intent_processor_input)\n",
    "\n",
    "        # intent output\n",
    "        intent_output_input = self.dropout(tf.concat([pooled_output, tf.cast(inputs[:, 150:150 + 114], dtype=tf.float32)], axis=-1), training=kwargs.get(\"training\", False))\n",
    "        intent_output = self.intent_output(intent_output_input)\n",
    "\n",
    "        return intent_output, slot_type_output, slot_intent_output, slot_action_output, slot_pointers_output, phantom_target_output, phantom_intent_output, phantom_action_output, phantom_pointers_output\n",
    "\n",
    "    def get_config(self):\n",
    "        config = super(JointIntentAndSlotFillingModel, self).get_config()\n",
    "        return config\n",
    "\n",
    "    @classmethod\n",
    "    def from_config(cls, config):\n",
    "        return cls(**config)\n",
    "    \n",
    "joint_model = JointIntentAndSlotFillingModel(intent_vector_length=38, total_slot_number=50, total_phantom_slot_number=5, slot_types=15, slot_intents=4, pointer_possibilities=18)"
   ]
  },
  {
   "cell_type": "markdown",
   "metadata": {},
   "source": [
    "### Train and Compile"
   ]
  },
  {
   "cell_type": "code",
   "execution_count": 10,
   "metadata": {},
   "outputs": [
    {
     "name": "stderr",
     "output_type": "stream",
     "text": [
      "2024/10/06 13:55:39 INFO mlflow.utils.autologging_utils: Created MLflow autologging run with ID 'a6bb372cc80342deac91a29ca05c6bdd', which will track hyperparameters, performance metrics, model artifacts, and lineage information for the current tensorflow workflow\n",
      "2024/10/06 13:55:39 WARNING mlflow.tensorflow: Encountered unexpected error while inferring batch size from training dataset: 'JointIntentAndSlotFillingModel' object has no attribute 'input_shape'\n",
      "2024/10/06 13:55:39 WARNING mlflow.tensorflow: Failed to log training dataset information to MLflow Tracking. Reason: If 'features' is a TensorFlow Tensor, then 'targets' must also be a TensorFlow Tensor. Found: <class 'tuple'>.\n"
     ]
    },
    {
     "data": {
      "text/html": [
       "<pre style=\"white-space:pre;overflow-x:auto;line-height:normal;font-family:Menlo,'DejaVu Sans Mono',consolas,'Courier New',monospace\"></pre>\n"
      ],
      "text/plain": []
     },
     "metadata": {},
     "output_type": "display_data"
    },
    {
     "name": "stdout",
     "output_type": "stream",
     "text": [
      "Epoch 1/24\n",
      "\u001b[1m1171/1171\u001b[0m \u001b[32m━━━━━━━━━━━━━━━━━━━━\u001b[0m\u001b[37m\u001b[0m \u001b[1m0s\u001b[0m 2s/step - intent_accuracy: 0.2952 - loss: 16.5248 - phantom_slot_actionable_accuracy: 0.9970 - phantom_slot_intent_accuracy: 0.7676 - phantom_slot_pointer_accuracy: 0.2276 - phantom_slot_target_accuracy: 0.2429 - slot_actionable_accuracy: 0.9712 - slot_intent_accuracy: 0.2421 - slot_pointer_accuracy: 0.3357 - slot_type_accuracy: 0.2145\n",
      "Epoch 1: saving model to model_epoch_01.keras\n"
     ]
    },
    {
     "name": "stderr",
     "output_type": "stream",
     "text": [
      "c:\\Users\\falkt\\AppData\\Local\\Programs\\Python\\Python312\\Lib\\site-packages\\keras\\src\\saving\\saving_api.py:102: UserWarning: You are saving a model that has not yet been built. It might not contain any weights yet. Consider building the model first by calling it on some data.\n",
      "  return saving_lib.save_model(model, filepath)\n",
      "WARNING:absl:You are saving your model as an HDF5 file via `model.save()` or `keras.saving.save_model(model)`. This file format is considered legacy. We recommend using instead the native Keras format, e.g. `model.save('my_model.keras')` or `keras.saving.save_model(model, 'my_model.keras')`. \n",
      "Uploading C:\\Users\\falkt\\AppData\\Local\\Temp\\tmptiydcmfz\\latest_checkpoint.h5:  85%|████████▍ | 550M/649M [00:09<00:01, 66.4MiB/s] WARNING:urllib3.connectionpool:Connection pool is full, discarding connection: databricks-prod-storage-oregon.s3.us-west-2.amazonaws.com. Connection pool size: 10\n",
      "Uploading C:\\Users\\falkt\\AppData\\Local\\Temp\\tmptiydcmfz\\latest_checkpoint.h5:  86%|████████▋ | 560M/649M [00:09<00:01, 66.4MiB/s]WARNING:urllib3.connectionpool:Connection pool is full, discarding connection: databricks-prod-storage-oregon.s3.us-west-2.amazonaws.com. Connection pool size: 10\n",
      "Uploading C:\\Users\\falkt\\AppData\\Local\\Temp\\tmptiydcmfz\\latest_checkpoint.h5:  88%|████████▊ | 570M/649M [00:09<00:01, 66.4MiB/s]WARNING:urllib3.connectionpool:Connection pool is full, discarding connection: databricks-prod-storage-oregon.s3.us-west-2.amazonaws.com. Connection pool size: 10\n",
      "Uploading C:\\Users\\falkt\\AppData\\Local\\Temp\\tmptiydcmfz\\latest_checkpoint.h5:  89%|████████▉ | 580M/649M [00:09<00:00, 87.3MiB/s]WARNING:urllib3.connectionpool:Connection pool is full, discarding connection: databricks-prod-storage-oregon.s3.us-west-2.amazonaws.com. Connection pool size: 10\n",
      "Uploading C:\\Users\\falkt\\AppData\\Local\\Temp\\tmptiydcmfz\\latest_checkpoint.h5:  91%|█████████ | 590M/649M [00:09<00:00, 85.8MiB/s]WARNING:urllib3.connectionpool:Connection pool is full, discarding connection: databricks-prod-storage-oregon.s3.us-west-2.amazonaws.com. Connection pool size: 10\n",
      "Uploading C:\\Users\\falkt\\AppData\\Local\\Temp\\tmptiydcmfz\\latest_checkpoint.h5:  92%|█████████▏| 600M/649M [00:09<00:00, 85.8MiB/s]WARNING:urllib3.connectionpool:Connection pool is full, discarding connection: databricks-prod-storage-oregon.s3.us-west-2.amazonaws.com. Connection pool size: 10\n",
      "WARNING:urllib3.connectionpool:Connection pool is full, discarding connection: databricks-prod-storage-oregon.s3.us-west-2.amazonaws.com. Connection pool size: 10\n",
      "Uploading C:\\Users\\falkt\\AppData\\Local\\Temp\\tmptiydcmfz\\latest_checkpoint.h5:  96%|█████████▌| 620M/649M [00:09<00:00, 85.8MiB/s]WARNING:urllib3.connectionpool:Connection pool is full, discarding connection: databricks-prod-storage-oregon.s3.us-west-2.amazonaws.com. Connection pool size: 10\n",
      "Uploading C:\\Users\\falkt\\AppData\\Local\\Temp\\tmptiydcmfz\\latest_checkpoint.h5:  97%|█████████▋| 630M/649M [00:09<00:00, 85.8MiB/s]WARNING:urllib3.connectionpool:Connection pool is full, discarding connection: databricks-prod-storage-oregon.s3.us-west-2.amazonaws.com. Connection pool size: 10\n",
      "Uploading C:\\Users\\falkt\\AppData\\Local\\Temp\\tmptiydcmfz\\latest_checkpoint.h5:  99%|█████████▊| 640M/649M [00:09<00:00, 151MiB/s] WARNING:urllib3.connectionpool:Connection pool is full, discarding connection: databricks-prod-storage-oregon.s3.us-west-2.amazonaws.com. Connection pool size: 10\n",
      "Uploading C:\\Users\\falkt\\AppData\\Local\\Temp\\tmptiydcmfz\\latest_checkpoint.h5: 100%|██████████| 649M/649M [00:09<00:00, 69.6MiB/s]\n"
     ]
    },
    {
     "name": "stdout",
     "output_type": "stream",
     "text": [
      "\u001b[1m1171/1171\u001b[0m \u001b[32m━━━━━━━━━━━━━━━━━━━━\u001b[0m\u001b[37m\u001b[0m \u001b[1m3697s\u001b[0m 3s/step - intent_accuracy: 0.2953 - loss: 16.5245 - phantom_slot_actionable_accuracy: 0.9970 - phantom_slot_intent_accuracy: 0.7676 - phantom_slot_pointer_accuracy: 0.2276 - phantom_slot_target_accuracy: 0.2430 - slot_actionable_accuracy: 0.9712 - slot_intent_accuracy: 0.2421 - slot_pointer_accuracy: 0.3357 - slot_type_accuracy: 0.2145 - val_intent_accuracy: 0.4482 - val_loss: 15.9259 - val_phantom_slot_actionable_accuracy: 1.0000 - val_phantom_slot_intent_accuracy: 0.7979 - val_phantom_slot_pointer_accuracy: 0.2211 - val_phantom_slot_target_accuracy: 0.3967 - val_slot_actionable_accuracy: 0.9819 - val_slot_intent_accuracy: 0.2742 - val_slot_pointer_accuracy: 0.4867 - val_slot_type_accuracy: 0.2421 - learning_rate: 6.0000e-05\n",
      "Epoch 2/24\n",
      "\u001b[1m1171/1171\u001b[0m \u001b[32m━━━━━━━━━━━━━━━━━━━━\u001b[0m\u001b[37m\u001b[0m \u001b[1m0s\u001b[0m 2s/step - intent_accuracy: 0.4510 - loss: 15.9455 - phantom_slot_actionable_accuracy: 1.0000 - phantom_slot_intent_accuracy: 0.7743 - phantom_slot_pointer_accuracy: 0.2843 - phantom_slot_target_accuracy: 0.5467 - slot_actionable_accuracy: 0.9797 - slot_intent_accuracy: 0.2928 - slot_pointer_accuracy: 0.5055 - slot_type_accuracy: 0.2605\n",
      "Epoch 2: saving model to model_epoch_02.keras\n"
     ]
    },
    {
     "name": "stderr",
     "output_type": "stream",
     "text": [
      "WARNING:absl:You are saving your model as an HDF5 file via `model.save()` or `keras.saving.save_model(model)`. This file format is considered legacy. We recommend using instead the native Keras format, e.g. `model.save('my_model.keras')` or `keras.saving.save_model(model, 'my_model.keras')`. \n",
      "Uploading C:\\Users\\falkt\\AppData\\Local\\Temp\\tmpjxgdzo9z\\latest_checkpoint.h5:  85%|████████▍ | 550M/649M [00:09<00:01, 78.9MiB/s] WARNING:urllib3.connectionpool:Connection pool is full, discarding connection: databricks-prod-storage-oregon.s3.us-west-2.amazonaws.com. Connection pool size: 10\n",
      "Uploading C:\\Users\\falkt\\AppData\\Local\\Temp\\tmpjxgdzo9z\\latest_checkpoint.h5:  86%|████████▋ | 560M/649M [00:09<00:01, 78.9MiB/s]WARNING:urllib3.connectionpool:Connection pool is full, discarding connection: databricks-prod-storage-oregon.s3.us-west-2.amazonaws.com. Connection pool size: 10\n",
      "Uploading C:\\Users\\falkt\\AppData\\Local\\Temp\\tmpjxgdzo9z\\latest_checkpoint.h5:  88%|████████▊ | 570M/649M [00:09<00:01, 78.9MiB/s]WARNING:urllib3.connectionpool:Connection pool is full, discarding connection: databricks-prod-storage-oregon.s3.us-west-2.amazonaws.com. Connection pool size: 10\n",
      "Uploading C:\\Users\\falkt\\AppData\\Local\\Temp\\tmpjxgdzo9z\\latest_checkpoint.h5:  89%|████████▉ | 580M/649M [00:09<00:00, 107MiB/s] WARNING:urllib3.connectionpool:Connection pool is full, discarding connection: databricks-prod-storage-oregon.s3.us-west-2.amazonaws.com. Connection pool size: 10\n",
      "Uploading C:\\Users\\falkt\\AppData\\Local\\Temp\\tmpjxgdzo9z\\latest_checkpoint.h5:  91%|█████████ | 590M/649M [00:09<00:00, 107MiB/s]WARNING:urllib3.connectionpool:Connection pool is full, discarding connection: databricks-prod-storage-oregon.s3.us-west-2.amazonaws.com. Connection pool size: 10\n",
      "Uploading C:\\Users\\falkt\\AppData\\Local\\Temp\\tmpjxgdzo9z\\latest_checkpoint.h5:  92%|█████████▏| 600M/649M [00:09<00:00, 107MiB/s]WARNING:urllib3.connectionpool:Connection pool is full, discarding connection: databricks-prod-storage-oregon.s3.us-west-2.amazonaws.com. Connection pool size: 10\n",
      "Uploading C:\\Users\\falkt\\AppData\\Local\\Temp\\tmpjxgdzo9z\\latest_checkpoint.h5:  94%|█████████▍| 610M/649M [00:09<00:00, 116MiB/s]WARNING:urllib3.connectionpool:Connection pool is full, discarding connection: databricks-prod-storage-oregon.s3.us-west-2.amazonaws.com. Connection pool size: 10\n",
      "Uploading C:\\Users\\falkt\\AppData\\Local\\Temp\\tmpjxgdzo9z\\latest_checkpoint.h5:  96%|█████████▌| 620M/649M [00:09<00:00, 106MiB/s]WARNING:urllib3.connectionpool:Connection pool is full, discarding connection: databricks-prod-storage-oregon.s3.us-west-2.amazonaws.com. Connection pool size: 10\n",
      "Uploading C:\\Users\\falkt\\AppData\\Local\\Temp\\tmpjxgdzo9z\\latest_checkpoint.h5:  97%|█████████▋| 630M/649M [00:10<00:00, 95.7MiB/s]WARNING:urllib3.connectionpool:Connection pool is full, discarding connection: databricks-prod-storage-oregon.s3.us-west-2.amazonaws.com. Connection pool size: 10\n",
      "Uploading C:\\Users\\falkt\\AppData\\Local\\Temp\\tmpjxgdzo9z\\latest_checkpoint.h5:  99%|█████████▊| 640M/649M [00:10<00:00, 95.7MiB/s]WARNING:urllib3.connectionpool:Connection pool is full, discarding connection: databricks-prod-storage-oregon.s3.us-west-2.amazonaws.com. Connection pool size: 10\n",
      "Uploading C:\\Users\\falkt\\AppData\\Local\\Temp\\tmpjxgdzo9z\\latest_checkpoint.h5: 100%|██████████| 649M/649M [00:10<00:00, 66.1MiB/s]\n"
     ]
    },
    {
     "name": "stdout",
     "output_type": "stream",
     "text": [
      "\u001b[1m1171/1171\u001b[0m \u001b[32m━━━━━━━━━━━━━━━━━━━━\u001b[0m\u001b[37m\u001b[0m \u001b[1m3682s\u001b[0m 3s/step - intent_accuracy: 0.4510 - loss: 15.9455 - phantom_slot_actionable_accuracy: 1.0000 - phantom_slot_intent_accuracy: 0.7744 - phantom_slot_pointer_accuracy: 0.2844 - phantom_slot_target_accuracy: 0.5468 - slot_actionable_accuracy: 0.9797 - slot_intent_accuracy: 0.2928 - slot_pointer_accuracy: 0.5055 - slot_type_accuracy: 0.2606 - val_intent_accuracy: 0.4953 - val_loss: 15.8321 - val_phantom_slot_actionable_accuracy: 1.0000 - val_phantom_slot_intent_accuracy: 0.9234 - val_phantom_slot_pointer_accuracy: 0.5753 - val_phantom_slot_target_accuracy: 0.9160 - val_slot_actionable_accuracy: 0.9819 - val_slot_intent_accuracy: 0.4212 - val_slot_pointer_accuracy: 0.7015 - val_slot_type_accuracy: 0.4124 - learning_rate: 6.0000e-05\n",
      "Epoch 3/24\n",
      "\u001b[1m1171/1171\u001b[0m \u001b[32m━━━━━━━━━━━━━━━━━━━━\u001b[0m\u001b[37m\u001b[0m \u001b[1m0s\u001b[0m 2s/step - intent_accuracy: 0.5007 - loss: 15.8301 - phantom_slot_actionable_accuracy: 1.0000 - phantom_slot_intent_accuracy: 0.8768 - phantom_slot_pointer_accuracy: 0.6397 - phantom_slot_target_accuracy: 0.9677 - slot_actionable_accuracy: 0.9775 - slot_intent_accuracy: 0.4828 - slot_pointer_accuracy: 0.6961 - slot_type_accuracy: 0.4219\n",
      "Epoch 3: saving model to model_epoch_03.keras\n"
     ]
    },
    {
     "name": "stderr",
     "output_type": "stream",
     "text": [
      "WARNING:absl:You are saving your model as an HDF5 file via `model.save()` or `keras.saving.save_model(model)`. This file format is considered legacy. We recommend using instead the native Keras format, e.g. `model.save('my_model.keras')` or `keras.saving.save_model(model, 'my_model.keras')`. \n",
      "Uploading C:\\Users\\falkt\\AppData\\Local\\Temp\\tmpbzjb4332\\latest_checkpoint.h5:  85%|████████▍ | 550M/649M [00:08<00:01, 91.8MiB/s] WARNING:urllib3.connectionpool:Connection pool is full, discarding connection: databricks-prod-storage-oregon.s3.us-west-2.amazonaws.com. Connection pool size: 10\n",
      "Uploading C:\\Users\\falkt\\AppData\\Local\\Temp\\tmpbzjb4332\\latest_checkpoint.h5:  86%|████████▋ | 560M/649M [00:08<00:01, 91.8MiB/s]WARNING:urllib3.connectionpool:Connection pool is full, discarding connection: databricks-prod-storage-oregon.s3.us-west-2.amazonaws.com. Connection pool size: 10\n",
      "Uploading C:\\Users\\falkt\\AppData\\Local\\Temp\\tmpbzjb4332\\latest_checkpoint.h5:  88%|████████▊ | 570M/649M [00:08<00:00, 91.8MiB/s]WARNING:urllib3.connectionpool:Connection pool is full, discarding connection: databricks-prod-storage-oregon.s3.us-west-2.amazonaws.com. Connection pool size: 10\n",
      "Uploading C:\\Users\\falkt\\AppData\\Local\\Temp\\tmpbzjb4332\\latest_checkpoint.h5:  89%|████████▉ | 580M/649M [00:08<00:00, 124MiB/s] WARNING:urllib3.connectionpool:Connection pool is full, discarding connection: databricks-prod-storage-oregon.s3.us-west-2.amazonaws.com. Connection pool size: 10\n",
      "Uploading C:\\Users\\falkt\\AppData\\Local\\Temp\\tmpbzjb4332\\latest_checkpoint.h5:  91%|█████████ | 590M/649M [00:08<00:00, 117MiB/s]WARNING:urllib3.connectionpool:Connection pool is full, discarding connection: databricks-prod-storage-oregon.s3.us-west-2.amazonaws.com. Connection pool size: 10\n",
      "Uploading C:\\Users\\falkt\\AppData\\Local\\Temp\\tmpbzjb4332\\latest_checkpoint.h5:  92%|█████████▏| 600M/649M [00:09<00:00, 99.7MiB/s]WARNING:urllib3.connectionpool:Connection pool is full, discarding connection: databricks-prod-storage-oregon.s3.us-west-2.amazonaws.com. Connection pool size: 10\n",
      "Uploading C:\\Users\\falkt\\AppData\\Local\\Temp\\tmpbzjb4332\\latest_checkpoint.h5:  94%|█████████▍| 610M/649M [00:09<00:00, 99.7MiB/s]WARNING:urllib3.connectionpool:Connection pool is full, discarding connection: databricks-prod-storage-oregon.s3.us-west-2.amazonaws.com. Connection pool size: 10\n",
      "Uploading C:\\Users\\falkt\\AppData\\Local\\Temp\\tmpbzjb4332\\latest_checkpoint.h5:  96%|█████████▌| 620M/649M [00:10<00:00, 32.4MiB/s]WARNING:urllib3.connectionpool:Connection pool is full, discarding connection: databricks-prod-storage-oregon.s3.us-west-2.amazonaws.com. Connection pool size: 10\n",
      "Uploading C:\\Users\\falkt\\AppData\\Local\\Temp\\tmpbzjb4332\\latest_checkpoint.h5:  97%|█████████▋| 630M/649M [00:10<00:00, 34.9MiB/s]WARNING:urllib3.connectionpool:Connection pool is full, discarding connection: databricks-prod-storage-oregon.s3.us-west-2.amazonaws.com. Connection pool size: 10\n",
      "Uploading C:\\Users\\falkt\\AppData\\Local\\Temp\\tmpbzjb4332\\latest_checkpoint.h5:  99%|█████████▊| 640M/649M [00:12<00:00, 19.2MiB/s]WARNING:urllib3.connectionpool:Connection pool is full, discarding connection: databricks-prod-storage-oregon.s3.us-west-2.amazonaws.com. Connection pool size: 10\n",
      "Uploading C:\\Users\\falkt\\AppData\\Local\\Temp\\tmpbzjb4332\\latest_checkpoint.h5: 100%|██████████| 649M/649M [00:12<00:00, 54.8MiB/s]\n"
     ]
    },
    {
     "name": "stdout",
     "output_type": "stream",
     "text": [
      "\u001b[1m1171/1171\u001b[0m \u001b[32m━━━━━━━━━━━━━━━━━━━━\u001b[0m\u001b[37m\u001b[0m \u001b[1m3681s\u001b[0m 3s/step - intent_accuracy: 0.5007 - loss: 15.8301 - phantom_slot_actionable_accuracy: 1.0000 - phantom_slot_intent_accuracy: 0.8768 - phantom_slot_pointer_accuracy: 0.6397 - phantom_slot_target_accuracy: 0.9677 - slot_actionable_accuracy: 0.9775 - slot_intent_accuracy: 0.4828 - slot_pointer_accuracy: 0.6961 - slot_type_accuracy: 0.4219 - val_intent_accuracy: 0.5153 - val_loss: 15.7716 - val_phantom_slot_actionable_accuracy: 1.0000 - val_phantom_slot_intent_accuracy: 0.9775 - val_phantom_slot_pointer_accuracy: 0.7000 - val_phantom_slot_target_accuracy: 0.9999 - val_slot_actionable_accuracy: 0.9822 - val_slot_intent_accuracy: 0.5694 - val_slot_pointer_accuracy: 0.7683 - val_slot_type_accuracy: 0.5266 - learning_rate: 6.0000e-05\n",
      "Epoch 4/24\n",
      "\u001b[1m1171/1171\u001b[0m \u001b[32m━━━━━━━━━━━━━━━━━━━━\u001b[0m\u001b[37m\u001b[0m \u001b[1m0s\u001b[0m 2s/step - intent_accuracy: 0.5244 - loss: 15.7951 - phantom_slot_actionable_accuracy: 1.0000 - phantom_slot_intent_accuracy: 0.9702 - phantom_slot_pointer_accuracy: 0.7161 - phantom_slot_target_accuracy: 0.9997 - slot_actionable_accuracy: 0.9796 - slot_intent_accuracy: 0.5600 - slot_pointer_accuracy: 0.7384 - slot_type_accuracy: 0.4931\n",
      "Epoch 4: saving model to model_epoch_04.keras\n"
     ]
    },
    {
     "name": "stderr",
     "output_type": "stream",
     "text": [
      "WARNING:absl:You are saving your model as an HDF5 file via `model.save()` or `keras.saving.save_model(model)`. This file format is considered legacy. We recommend using instead the native Keras format, e.g. `model.save('my_model.keras')` or `keras.saving.save_model(model, 'my_model.keras')`. \n",
      "Uploading C:\\Users\\falkt\\AppData\\Local\\Temp\\tmpfsaax__a\\latest_checkpoint.h5:  85%|████████▍ | 550M/649M [00:08<00:01, 67.9MiB/s] WARNING:urllib3.connectionpool:Connection pool is full, discarding connection: databricks-prod-storage-oregon.s3.us-west-2.amazonaws.com. Connection pool size: 10\n",
      "Uploading C:\\Users\\falkt\\AppData\\Local\\Temp\\tmpfsaax__a\\latest_checkpoint.h5:  86%|████████▋ | 560M/649M [00:08<00:01, 67.9MiB/s]WARNING:urllib3.connectionpool:Connection pool is full, discarding connection: databricks-prod-storage-oregon.s3.us-west-2.amazonaws.com. Connection pool size: 10\n",
      "Uploading C:\\Users\\falkt\\AppData\\Local\\Temp\\tmpfsaax__a\\latest_checkpoint.h5:  88%|████████▊ | 570M/649M [00:09<00:00, 86.7MiB/s]WARNING:urllib3.connectionpool:Connection pool is full, discarding connection: databricks-prod-storage-oregon.s3.us-west-2.amazonaws.com. Connection pool size: 10\n",
      "Uploading C:\\Users\\falkt\\AppData\\Local\\Temp\\tmpfsaax__a\\latest_checkpoint.h5:  89%|████████▉ | 580M/649M [00:09<00:00, 86.7MiB/s]WARNING:urllib3.connectionpool:Connection pool is full, discarding connection: databricks-prod-storage-oregon.s3.us-west-2.amazonaws.com. Connection pool size: 10\n",
      "Uploading C:\\Users\\falkt\\AppData\\Local\\Temp\\tmpfsaax__a\\latest_checkpoint.h5:  91%|█████████ | 590M/649M [00:09<00:00, 99.3MiB/s]WARNING:urllib3.connectionpool:Connection pool is full, discarding connection: databricks-prod-storage-oregon.s3.us-west-2.amazonaws.com. Connection pool size: 10\n",
      "Uploading C:\\Users\\falkt\\AppData\\Local\\Temp\\tmpfsaax__a\\latest_checkpoint.h5:  92%|█████████▏| 600M/649M [00:09<00:00, 99.3MiB/s]WARNING:urllib3.connectionpool:Connection pool is full, discarding connection: databricks-prod-storage-oregon.s3.us-west-2.amazonaws.com. Connection pool size: 10\n",
      "Uploading C:\\Users\\falkt\\AppData\\Local\\Temp\\tmpfsaax__a\\latest_checkpoint.h5:  94%|█████████▍| 610M/649M [00:09<00:00, 99.3MiB/s]WARNING:urllib3.connectionpool:Connection pool is full, discarding connection: databricks-prod-storage-oregon.s3.us-west-2.amazonaws.com. Connection pool size: 10\n",
      "Uploading C:\\Users\\falkt\\AppData\\Local\\Temp\\tmpfsaax__a\\latest_checkpoint.h5:  96%|█████████▌| 620M/649M [00:09<00:00, 121MiB/s] WARNING:urllib3.connectionpool:Connection pool is full, discarding connection: databricks-prod-storage-oregon.s3.us-west-2.amazonaws.com. Connection pool size: 10\n",
      "Uploading C:\\Users\\falkt\\AppData\\Local\\Temp\\tmpfsaax__a\\latest_checkpoint.h5:  97%|█████████▋| 630M/649M [00:09<00:00, 121MiB/s]WARNING:urllib3.connectionpool:Connection pool is full, discarding connection: databricks-prod-storage-oregon.s3.us-west-2.amazonaws.com. Connection pool size: 10\n",
      "Uploading C:\\Users\\falkt\\AppData\\Local\\Temp\\tmpfsaax__a\\latest_checkpoint.h5:  99%|█████████▊| 640M/649M [00:09<00:00, 105MiB/s]WARNING:urllib3.connectionpool:Connection pool is full, discarding connection: databricks-prod-storage-oregon.s3.us-west-2.amazonaws.com. Connection pool size: 10\n",
      "Uploading C:\\Users\\falkt\\AppData\\Local\\Temp\\tmpfsaax__a\\latest_checkpoint.h5: 100%|██████████| 649M/649M [00:10<00:00, 67.5MiB/s]\n"
     ]
    },
    {
     "name": "stdout",
     "output_type": "stream",
     "text": [
      "\u001b[1m1171/1171\u001b[0m \u001b[32m━━━━━━━━━━━━━━━━━━━━\u001b[0m\u001b[37m\u001b[0m \u001b[1m3682s\u001b[0m 3s/step - intent_accuracy: 0.5244 - loss: 15.7951 - phantom_slot_actionable_accuracy: 1.0000 - phantom_slot_intent_accuracy: 0.9702 - phantom_slot_pointer_accuracy: 0.7161 - phantom_slot_target_accuracy: 0.9997 - slot_actionable_accuracy: 0.9796 - slot_intent_accuracy: 0.5600 - slot_pointer_accuracy: 0.7384 - slot_type_accuracy: 0.4931 - val_intent_accuracy: 0.5511 - val_loss: 15.7331 - val_phantom_slot_actionable_accuracy: 1.0000 - val_phantom_slot_intent_accuracy: 0.8273 - val_phantom_slot_pointer_accuracy: 0.7646 - val_phantom_slot_target_accuracy: 0.9999 - val_slot_actionable_accuracy: 0.9816 - val_slot_intent_accuracy: 0.5416 - val_slot_pointer_accuracy: 0.6342 - val_slot_type_accuracy: 0.3961 - learning_rate: 6.0000e-05\n",
      "Epoch 5/24\n",
      "\u001b[1m1171/1171\u001b[0m \u001b[32m━━━━━━━━━━━━━━━━━━━━\u001b[0m\u001b[37m\u001b[0m \u001b[1m0s\u001b[0m 2s/step - intent_accuracy: 0.5421 - loss: 15.7302 - phantom_slot_actionable_accuracy: 1.0000 - phantom_slot_intent_accuracy: 0.8872 - phantom_slot_pointer_accuracy: 0.7699 - phantom_slot_target_accuracy: 1.0000 - slot_actionable_accuracy: 0.9812 - slot_intent_accuracy: 0.5470 - slot_pointer_accuracy: 0.6496 - slot_type_accuracy: 0.4096\n",
      "Epoch 5: saving model to model_epoch_05.keras\n",
      "\u001b[1m1171/1171\u001b[0m \u001b[32m━━━━━━━━━━━━━━━━━━━━\u001b[0m\u001b[37m\u001b[0m \u001b[1m3680s\u001b[0m 3s/step - intent_accuracy: 0.5421 - loss: 15.7302 - phantom_slot_actionable_accuracy: 1.0000 - phantom_slot_intent_accuracy: 0.8873 - phantom_slot_pointer_accuracy: 0.7699 - phantom_slot_target_accuracy: 1.0000 - slot_actionable_accuracy: 0.9812 - slot_intent_accuracy: 0.5470 - slot_pointer_accuracy: 0.6496 - slot_type_accuracy: 0.4096 - val_intent_accuracy: 0.5587 - val_loss: 15.7635 - val_phantom_slot_actionable_accuracy: 1.0000 - val_phantom_slot_intent_accuracy: 0.9996 - val_phantom_slot_pointer_accuracy: 0.7541 - val_phantom_slot_target_accuracy: 0.9999 - val_slot_actionable_accuracy: 0.9786 - val_slot_intent_accuracy: 0.5798 - val_slot_pointer_accuracy: 0.6866 - val_slot_type_accuracy: 0.4447 - learning_rate: 6.0000e-05\n",
      "Epoch 6/24\n",
      "\u001b[1m1171/1171\u001b[0m \u001b[32m━━━━━━━━━━━━━━━━━━━━\u001b[0m\u001b[37m\u001b[0m \u001b[1m0s\u001b[0m 2s/step - intent_accuracy: 0.5466 - loss: 15.7028 - phantom_slot_actionable_accuracy: 1.0000 - phantom_slot_intent_accuracy: 0.9988 - phantom_slot_pointer_accuracy: 0.7464 - phantom_slot_target_accuracy: 0.9999 - slot_actionable_accuracy: 0.9808 - slot_intent_accuracy: 0.5629 - slot_pointer_accuracy: 0.7100 - slot_type_accuracy: 0.4697\n",
      "Epoch 6: saving model to model_epoch_06.keras\n"
     ]
    },
    {
     "name": "stderr",
     "output_type": "stream",
     "text": [
      "WARNING:absl:You are saving your model as an HDF5 file via `model.save()` or `keras.saving.save_model(model)`. This file format is considered legacy. We recommend using instead the native Keras format, e.g. `model.save('my_model.keras')` or `keras.saving.save_model(model, 'my_model.keras')`. \n",
      "Uploading C:\\Users\\falkt\\AppData\\Local\\Temp\\tmpygcyc3v4\\latest_checkpoint.h5:  85%|████████▍ | 550M/649M [00:08<00:01, 71.2MiB/s] WARNING:urllib3.connectionpool:Connection pool is full, discarding connection: databricks-prod-storage-oregon.s3.us-west-2.amazonaws.com. Connection pool size: 10\n",
      "Uploading C:\\Users\\falkt\\AppData\\Local\\Temp\\tmpygcyc3v4\\latest_checkpoint.h5:  86%|████████▋ | 560M/649M [00:08<00:01, 88.4MiB/s]WARNING:urllib3.connectionpool:Connection pool is full, discarding connection: databricks-prod-storage-oregon.s3.us-west-2.amazonaws.com. Connection pool size: 10\n",
      "Uploading C:\\Users\\falkt\\AppData\\Local\\Temp\\tmpygcyc3v4\\latest_checkpoint.h5:  88%|████████▊ | 570M/649M [00:09<00:01, 67.2MiB/s]WARNING:urllib3.connectionpool:Connection pool is full, discarding connection: databricks-prod-storage-oregon.s3.us-west-2.amazonaws.com. Connection pool size: 10\n",
      "Uploading C:\\Users\\falkt\\AppData\\Local\\Temp\\tmpygcyc3v4\\latest_checkpoint.h5:  89%|████████▉ | 580M/649M [00:09<00:01, 67.2MiB/s]WARNING:urllib3.connectionpool:Connection pool is full, discarding connection: databricks-prod-storage-oregon.s3.us-west-2.amazonaws.com. Connection pool size: 10\n",
      "Uploading C:\\Users\\falkt\\AppData\\Local\\Temp\\tmpygcyc3v4\\latest_checkpoint.h5:  91%|█████████ | 590M/649M [00:09<00:00, 69.0MiB/s]WARNING:urllib3.connectionpool:Connection pool is full, discarding connection: databricks-prod-storage-oregon.s3.us-west-2.amazonaws.com. Connection pool size: 10\n",
      "Uploading C:\\Users\\falkt\\AppData\\Local\\Temp\\tmpygcyc3v4\\latest_checkpoint.h5:  92%|█████████▏| 600M/649M [00:09<00:00, 67.4MiB/s]WARNING:urllib3.connectionpool:Connection pool is full, discarding connection: databricks-prod-storage-oregon.s3.us-west-2.amazonaws.com. Connection pool size: 10\n",
      "Uploading C:\\Users\\falkt\\AppData\\Local\\Temp\\tmpygcyc3v4\\latest_checkpoint.h5:  94%|█████████▍| 610M/649M [00:09<00:00, 59.7MiB/s]WARNING:urllib3.connectionpool:Connection pool is full, discarding connection: databricks-prod-storage-oregon.s3.us-west-2.amazonaws.com. Connection pool size: 10\n",
      "Uploading C:\\Users\\falkt\\AppData\\Local\\Temp\\tmpygcyc3v4\\latest_checkpoint.h5:  96%|█████████▌| 620M/649M [00:10<00:00, 33.0MiB/s]WARNING:urllib3.connectionpool:Connection pool is full, discarding connection: databricks-prod-storage-oregon.s3.us-west-2.amazonaws.com. Connection pool size: 10\n",
      "Uploading C:\\Users\\falkt\\AppData\\Local\\Temp\\tmpygcyc3v4\\latest_checkpoint.h5:  97%|█████████▋| 630M/649M [00:10<00:00, 33.0MiB/s]WARNING:urllib3.connectionpool:Connection pool is full, discarding connection: databricks-prod-storage-oregon.s3.us-west-2.amazonaws.com. Connection pool size: 10\n",
      "Uploading C:\\Users\\falkt\\AppData\\Local\\Temp\\tmpygcyc3v4\\latest_checkpoint.h5:  99%|█████████▊| 640M/649M [00:10<00:00, 33.0MiB/s]WARNING:urllib3.connectionpool:Connection pool is full, discarding connection: databricks-prod-storage-oregon.s3.us-west-2.amazonaws.com. Connection pool size: 10\n",
      "Uploading C:\\Users\\falkt\\AppData\\Local\\Temp\\tmpygcyc3v4\\latest_checkpoint.h5: 100%|██████████| 649M/649M [00:12<00:00, 55.1MiB/s]\n"
     ]
    },
    {
     "name": "stdout",
     "output_type": "stream",
     "text": [
      "\u001b[1m1171/1171\u001b[0m \u001b[32m━━━━━━━━━━━━━━━━━━━━\u001b[0m\u001b[37m\u001b[0m \u001b[1m3700s\u001b[0m 3s/step - intent_accuracy: 0.5466 - loss: 15.7028 - phantom_slot_actionable_accuracy: 1.0000 - phantom_slot_intent_accuracy: 0.9988 - phantom_slot_pointer_accuracy: 0.7464 - phantom_slot_target_accuracy: 0.9999 - slot_actionable_accuracy: 0.9808 - slot_intent_accuracy: 0.5629 - slot_pointer_accuracy: 0.7100 - slot_type_accuracy: 0.4697 - val_intent_accuracy: 0.5605 - val_loss: 15.6631 - val_phantom_slot_actionable_accuracy: 1.0000 - val_phantom_slot_intent_accuracy: 1.0000 - val_phantom_slot_pointer_accuracy: 0.7328 - val_phantom_slot_target_accuracy: 0.9999 - val_slot_actionable_accuracy: 0.9806 - val_slot_intent_accuracy: 0.5396 - val_slot_pointer_accuracy: 0.7087 - val_slot_type_accuracy: 0.4898 - learning_rate: 6.0000e-05\n",
      "Epoch 7/24\n",
      "\u001b[1m1171/1171\u001b[0m \u001b[32m━━━━━━━━━━━━━━━━━━━━\u001b[0m\u001b[37m\u001b[0m \u001b[1m0s\u001b[0m 2s/step - intent_accuracy: 0.5537 - loss: 15.6525 - phantom_slot_actionable_accuracy: 1.0000 - phantom_slot_intent_accuracy: 1.0000 - phantom_slot_pointer_accuracy: 0.7563 - phantom_slot_target_accuracy: 1.0000 - slot_actionable_accuracy: 0.9810 - slot_intent_accuracy: 0.5602 - slot_pointer_accuracy: 0.7218 - slot_type_accuracy: 0.4783\n",
      "Epoch 7: saving model to model_epoch_07.keras\n",
      "\u001b[1m1171/1171\u001b[0m \u001b[32m━━━━━━━━━━━━━━━━━━━━\u001b[0m\u001b[37m\u001b[0m \u001b[1m3669s\u001b[0m 3s/step - intent_accuracy: 0.5537 - loss: 15.6525 - phantom_slot_actionable_accuracy: 1.0000 - phantom_slot_intent_accuracy: 1.0000 - phantom_slot_pointer_accuracy: 0.7563 - phantom_slot_target_accuracy: 1.0000 - slot_actionable_accuracy: 0.9810 - slot_intent_accuracy: 0.5602 - slot_pointer_accuracy: 0.7218 - slot_type_accuracy: 0.4783 - val_intent_accuracy: 0.5675 - val_loss: 15.7422 - val_phantom_slot_actionable_accuracy: 1.0000 - val_phantom_slot_intent_accuracy: 1.0000 - val_phantom_slot_pointer_accuracy: 0.7503 - val_phantom_slot_target_accuracy: 0.9999 - val_slot_actionable_accuracy: 0.9804 - val_slot_intent_accuracy: 0.6255 - val_slot_pointer_accuracy: 0.7272 - val_slot_type_accuracy: 0.4326 - learning_rate: 6.0000e-05\n",
      "Epoch 8/24\n",
      "\u001b[1m1171/1171\u001b[0m \u001b[32m━━━━━━━━━━━━━━━━━━━━\u001b[0m\u001b[37m\u001b[0m \u001b[1m0s\u001b[0m 2s/step - intent_accuracy: 0.5641 - loss: 15.6230 - phantom_slot_actionable_accuracy: 1.0000 - phantom_slot_intent_accuracy: 1.0000 - phantom_slot_pointer_accuracy: 0.7690 - phantom_slot_target_accuracy: 1.0000 - slot_actionable_accuracy: 0.9800 - slot_intent_accuracy: 0.6073 - slot_pointer_accuracy: 0.7561 - slot_type_accuracy: 0.4691\n",
      "Epoch 8: saving model to model_epoch_08.keras\n"
     ]
    },
    {
     "name": "stderr",
     "output_type": "stream",
     "text": [
      "WARNING:absl:You are saving your model as an HDF5 file via `model.save()` or `keras.saving.save_model(model)`. This file format is considered legacy. We recommend using instead the native Keras format, e.g. `model.save('my_model.keras')` or `keras.saving.save_model(model, 'my_model.keras')`. \n",
      "Uploading C:\\Users\\falkt\\AppData\\Local\\Temp\\tmpkvc9gf0m\\latest_checkpoint.h5:  85%|████████▍ | 550M/649M [00:08<00:00, 107MiB/s]  WARNING:urllib3.connectionpool:Connection pool is full, discarding connection: databricks-prod-storage-oregon.s3.us-west-2.amazonaws.com. Connection pool size: 10\n",
      "Uploading C:\\Users\\falkt\\AppData\\Local\\Temp\\tmpkvc9gf0m\\latest_checkpoint.h5:  86%|████████▋ | 560M/649M [00:09<00:00, 112MiB/s]WARNING:urllib3.connectionpool:Connection pool is full, discarding connection: databricks-prod-storage-oregon.s3.us-west-2.amazonaws.com. Connection pool size: 10\n",
      "Uploading C:\\Users\\falkt\\AppData\\Local\\Temp\\tmpkvc9gf0m\\latest_checkpoint.h5:  88%|████████▊ | 570M/649M [00:09<00:00, 112MiB/s]WARNING:urllib3.connectionpool:Connection pool is full, discarding connection: databricks-prod-storage-oregon.s3.us-west-2.amazonaws.com. Connection pool size: 10\n",
      "Uploading C:\\Users\\falkt\\AppData\\Local\\Temp\\tmpkvc9gf0m\\latest_checkpoint.h5:  89%|████████▉ | 580M/649M [00:09<00:00, 103MiB/s]WARNING:urllib3.connectionpool:Connection pool is full, discarding connection: databricks-prod-storage-oregon.s3.us-west-2.amazonaws.com. Connection pool size: 10\n",
      "Uploading C:\\Users\\falkt\\AppData\\Local\\Temp\\tmpkvc9gf0m\\latest_checkpoint.h5:  91%|█████████ | 590M/649M [00:09<00:00, 82.4MiB/s]WARNING:urllib3.connectionpool:Connection pool is full, discarding connection: databricks-prod-storage-oregon.s3.us-west-2.amazonaws.com. Connection pool size: 10\n",
      "Uploading C:\\Users\\falkt\\AppData\\Local\\Temp\\tmpkvc9gf0m\\latest_checkpoint.h5:  92%|█████████▏| 600M/649M [00:09<00:00, 82.4MiB/s]WARNING:urllib3.connectionpool:Connection pool is full, discarding connection: databricks-prod-storage-oregon.s3.us-west-2.amazonaws.com. Connection pool size: 10\n",
      "Uploading C:\\Users\\falkt\\AppData\\Local\\Temp\\tmpkvc9gf0m\\latest_checkpoint.h5:  94%|█████████▍| 610M/649M [00:09<00:00, 82.4MiB/s]WARNING:urllib3.connectionpool:Connection pool is full, discarding connection: databricks-prod-storage-oregon.s3.us-west-2.amazonaws.com. Connection pool size: 10\n",
      "Uploading C:\\Users\\falkt\\AppData\\Local\\Temp\\tmpkvc9gf0m\\latest_checkpoint.h5:  96%|█████████▌| 620M/649M [00:09<00:00, 88.7MiB/s]WARNING:urllib3.connectionpool:Connection pool is full, discarding connection: databricks-prod-storage-oregon.s3.us-west-2.amazonaws.com. Connection pool size: 10\n",
      "Uploading C:\\Users\\falkt\\AppData\\Local\\Temp\\tmpkvc9gf0m\\latest_checkpoint.h5:  97%|█████████▋| 630M/649M [00:09<00:00, 88.7MiB/s]WARNING:urllib3.connectionpool:Connection pool is full, discarding connection: databricks-prod-storage-oregon.s3.us-west-2.amazonaws.com. Connection pool size: 10\n",
      "Uploading C:\\Users\\falkt\\AppData\\Local\\Temp\\tmpkvc9gf0m\\latest_checkpoint.h5:  99%|█████████▊| 640M/649M [00:10<00:00, 67.7MiB/s]WARNING:urllib3.connectionpool:Connection pool is full, discarding connection: databricks-prod-storage-oregon.s3.us-west-2.amazonaws.com. Connection pool size: 10\n",
      "Uploading C:\\Users\\falkt\\AppData\\Local\\Temp\\tmpkvc9gf0m\\latest_checkpoint.h5: 100%|██████████| 649M/649M [00:10<00:00, 62.5MiB/s]\n"
     ]
    },
    {
     "name": "stdout",
     "output_type": "stream",
     "text": [
      "\u001b[1m1171/1171\u001b[0m \u001b[32m━━━━━━━━━━━━━━━━━━━━\u001b[0m\u001b[37m\u001b[0m \u001b[1m3692s\u001b[0m 3s/step - intent_accuracy: 0.5640 - loss: 15.6230 - phantom_slot_actionable_accuracy: 1.0000 - phantom_slot_intent_accuracy: 1.0000 - phantom_slot_pointer_accuracy: 0.7690 - phantom_slot_target_accuracy: 1.0000 - slot_actionable_accuracy: 0.9800 - slot_intent_accuracy: 0.6073 - slot_pointer_accuracy: 0.7561 - slot_type_accuracy: 0.4691 - val_intent_accuracy: 0.5685 - val_loss: 15.6067 - val_phantom_slot_actionable_accuracy: 1.0000 - val_phantom_slot_intent_accuracy: 1.0000 - val_phantom_slot_pointer_accuracy: 0.8362 - val_phantom_slot_target_accuracy: 0.9999 - val_slot_actionable_accuracy: 0.9809 - val_slot_intent_accuracy: 0.5984 - val_slot_pointer_accuracy: 0.7838 - val_slot_type_accuracy: 0.5156 - learning_rate: 6.0000e-05\n",
      "Epoch 9/24\n",
      "\u001b[1m1171/1171\u001b[0m \u001b[32m━━━━━━━━━━━━━━━━━━━━\u001b[0m\u001b[37m\u001b[0m \u001b[1m0s\u001b[0m 2s/step - intent_accuracy: 0.5642 - loss: 15.5691 - phantom_slot_actionable_accuracy: 1.0000 - phantom_slot_intent_accuracy: 1.0000 - phantom_slot_pointer_accuracy: 0.7755 - phantom_slot_target_accuracy: 1.0000 - slot_actionable_accuracy: 0.9794 - slot_intent_accuracy: 0.5960 - slot_pointer_accuracy: 0.7769 - slot_type_accuracy: 0.5082\n",
      "Epoch 9: saving model to model_epoch_09.keras\n"
     ]
    },
    {
     "name": "stderr",
     "output_type": "stream",
     "text": [
      "WARNING:absl:You are saving your model as an HDF5 file via `model.save()` or `keras.saving.save_model(model)`. This file format is considered legacy. We recommend using instead the native Keras format, e.g. `model.save('my_model.keras')` or `keras.saving.save_model(model, 'my_model.keras')`. \n",
      "Uploading C:\\Users\\falkt\\AppData\\Local\\Temp\\tmpy2ptqshc\\latest_checkpoint.h5:  85%|████████▍ | 550M/649M [00:10<00:01, 99.2MiB/s] WARNING:urllib3.connectionpool:Connection pool is full, discarding connection: databricks-prod-storage-oregon.s3.us-west-2.amazonaws.com. Connection pool size: 10\n",
      "Uploading C:\\Users\\falkt\\AppData\\Local\\Temp\\tmpy2ptqshc\\latest_checkpoint.h5:  86%|████████▋ | 560M/649M [00:10<00:00, 101MiB/s] WARNING:urllib3.connectionpool:Connection pool is full, discarding connection: databricks-prod-storage-oregon.s3.us-west-2.amazonaws.com. Connection pool size: 10\n",
      "Uploading C:\\Users\\falkt\\AppData\\Local\\Temp\\tmpy2ptqshc\\latest_checkpoint.h5:  88%|████████▊ | 570M/649M [00:10<00:00, 89.0MiB/s]WARNING:urllib3.connectionpool:Connection pool is full, discarding connection: databricks-prod-storage-oregon.s3.us-west-2.amazonaws.com. Connection pool size: 10\n",
      "Uploading C:\\Users\\falkt\\AppData\\Local\\Temp\\tmpy2ptqshc\\latest_checkpoint.h5:  89%|████████▉ | 580M/649M [00:11<00:01, 64.9MiB/s]WARNING:urllib3.connectionpool:Connection pool is full, discarding connection: databricks-prod-storage-oregon.s3.us-west-2.amazonaws.com. Connection pool size: 10\n",
      "Uploading C:\\Users\\falkt\\AppData\\Local\\Temp\\tmpy2ptqshc\\latest_checkpoint.h5:  91%|█████████ | 590M/649M [00:11<00:00, 65.5MiB/s]WARNING:urllib3.connectionpool:Connection pool is full, discarding connection: databricks-prod-storage-oregon.s3.us-west-2.amazonaws.com. Connection pool size: 10\n",
      "Uploading C:\\Users\\falkt\\AppData\\Local\\Temp\\tmpy2ptqshc\\latest_checkpoint.h5:  92%|█████████▏| 600M/649M [00:11<00:00, 64.7MiB/s]WARNING:urllib3.connectionpool:Connection pool is full, discarding connection: databricks-prod-storage-oregon.s3.us-west-2.amazonaws.com. Connection pool size: 10\n",
      "Uploading C:\\Users\\falkt\\AppData\\Local\\Temp\\tmpy2ptqshc\\latest_checkpoint.h5:  94%|█████████▍| 610M/649M [00:11<00:00, 64.7MiB/s]WARNING:urllib3.connectionpool:Connection pool is full, discarding connection: databricks-prod-storage-oregon.s3.us-west-2.amazonaws.com. Connection pool size: 10\n",
      "Uploading C:\\Users\\falkt\\AppData\\Local\\Temp\\tmpy2ptqshc\\latest_checkpoint.h5:  96%|█████████▌| 620M/649M [00:11<00:00, 64.7MiB/s]WARNING:urllib3.connectionpool:Connection pool is full, discarding connection: databricks-prod-storage-oregon.s3.us-west-2.amazonaws.com. Connection pool size: 10\n",
      "Uploading C:\\Users\\falkt\\AppData\\Local\\Temp\\tmpy2ptqshc\\latest_checkpoint.h5:  97%|█████████▋| 630M/649M [00:11<00:00, 64.7MiB/s]WARNING:urllib3.connectionpool:Connection pool is full, discarding connection: databricks-prod-storage-oregon.s3.us-west-2.amazonaws.com. Connection pool size: 10\n",
      "Uploading C:\\Users\\falkt\\AppData\\Local\\Temp\\tmpy2ptqshc\\latest_checkpoint.h5:  99%|█████████▊| 640M/649M [00:12<00:00, 41.6MiB/s]WARNING:urllib3.connectionpool:Connection pool is full, discarding connection: databricks-prod-storage-oregon.s3.us-west-2.amazonaws.com. Connection pool size: 10\n",
      "Uploading C:\\Users\\falkt\\AppData\\Local\\Temp\\tmpy2ptqshc\\latest_checkpoint.h5: 100%|██████████| 649M/649M [00:14<00:00, 45.5MiB/s]\n"
     ]
    },
    {
     "name": "stdout",
     "output_type": "stream",
     "text": [
      "\u001b[1m1171/1171\u001b[0m \u001b[32m━━━━━━━━━━━━━━━━━━━━\u001b[0m\u001b[37m\u001b[0m \u001b[1m3699s\u001b[0m 3s/step - intent_accuracy: 0.5642 - loss: 15.5691 - phantom_slot_actionable_accuracy: 1.0000 - phantom_slot_intent_accuracy: 1.0000 - phantom_slot_pointer_accuracy: 0.7755 - phantom_slot_target_accuracy: 1.0000 - slot_actionable_accuracy: 0.9794 - slot_intent_accuracy: 0.5960 - slot_pointer_accuracy: 0.7769 - slot_type_accuracy: 0.5083 - val_intent_accuracy: 0.5752 - val_loss: 15.5889 - val_phantom_slot_actionable_accuracy: 1.0000 - val_phantom_slot_intent_accuracy: 1.0000 - val_phantom_slot_pointer_accuracy: 0.7214 - val_phantom_slot_target_accuracy: 1.0000 - val_slot_actionable_accuracy: 0.9812 - val_slot_intent_accuracy: 0.5938 - val_slot_pointer_accuracy: 0.7928 - val_slot_type_accuracy: 0.5231 - learning_rate: 6.0000e-05\n",
      "Epoch 10/24\n",
      "\u001b[1m1171/1171\u001b[0m \u001b[32m━━━━━━━━━━━━━━━━━━━━\u001b[0m\u001b[37m\u001b[0m \u001b[1m0s\u001b[0m 2s/step - intent_accuracy: 0.5625 - loss: 15.5532 - phantom_slot_actionable_accuracy: 1.0000 - phantom_slot_intent_accuracy: 1.0000 - phantom_slot_pointer_accuracy: 0.8114 - phantom_slot_target_accuracy: 1.0000 - slot_actionable_accuracy: 0.9795 - slot_intent_accuracy: 0.5913 - slot_pointer_accuracy: 0.7652 - slot_type_accuracy: 0.4743\n",
      "Epoch 10: saving model to model_epoch_10.keras\n",
      "\u001b[1m1171/1171\u001b[0m \u001b[32m━━━━━━━━━━━━━━━━━━━━\u001b[0m\u001b[37m\u001b[0m \u001b[1m3687s\u001b[0m 3s/step - intent_accuracy: 0.5625 - loss: 15.5532 - phantom_slot_actionable_accuracy: 1.0000 - phantom_slot_intent_accuracy: 1.0000 - phantom_slot_pointer_accuracy: 0.8114 - phantom_slot_target_accuracy: 1.0000 - slot_actionable_accuracy: 0.9795 - slot_intent_accuracy: 0.5913 - slot_pointer_accuracy: 0.7652 - slot_type_accuracy: 0.4743 - val_intent_accuracy: 0.5763 - val_loss: 15.5937 - val_phantom_slot_actionable_accuracy: 1.0000 - val_phantom_slot_intent_accuracy: 1.0000 - val_phantom_slot_pointer_accuracy: 0.7854 - val_phantom_slot_target_accuracy: 1.0000 - val_slot_actionable_accuracy: 0.9802 - val_slot_intent_accuracy: 0.5967 - val_slot_pointer_accuracy: 0.7713 - val_slot_type_accuracy: 0.4983 - learning_rate: 6.0000e-05\n",
      "Epoch 11/24\n",
      "\u001b[1m1171/1171\u001b[0m \u001b[32m━━━━━━━━━━━━━━━━━━━━\u001b[0m\u001b[37m\u001b[0m \u001b[1m0s\u001b[0m 2s/step - intent_accuracy: 0.5662 - loss: 15.5262 - phantom_slot_actionable_accuracy: 1.0000 - phantom_slot_intent_accuracy: 1.0000 - phantom_slot_pointer_accuracy: 0.8389 - phantom_slot_target_accuracy: 1.0000 - slot_actionable_accuracy: 0.9799 - slot_intent_accuracy: 0.6034 - slot_pointer_accuracy: 0.7801 - slot_type_accuracy: 0.4924\n",
      "Epoch 11: saving model to model_epoch_11.keras\n"
     ]
    },
    {
     "name": "stderr",
     "output_type": "stream",
     "text": [
      "WARNING:absl:You are saving your model as an HDF5 file via `model.save()` or `keras.saving.save_model(model)`. This file format is considered legacy. We recommend using instead the native Keras format, e.g. `model.save('my_model.keras')` or `keras.saving.save_model(model, 'my_model.keras')`. \n",
      "Uploading C:\\Users\\falkt\\AppData\\Local\\Temp\\tmp6wcyojwo\\latest_checkpoint.h5:  85%|████████▍ | 550M/649M [00:10<00:01, 82.2MiB/s] WARNING:urllib3.connectionpool:Connection pool is full, discarding connection: databricks-prod-storage-oregon.s3.us-west-2.amazonaws.com. Connection pool size: 10\n",
      "Uploading C:\\Users\\falkt\\AppData\\Local\\Temp\\tmp6wcyojwo\\latest_checkpoint.h5:  86%|████████▋ | 560M/649M [00:10<00:01, 82.2MiB/s]WARNING:urllib3.connectionpool:Connection pool is full, discarding connection: databricks-prod-storage-oregon.s3.us-west-2.amazonaws.com. Connection pool size: 10\n",
      "Uploading C:\\Users\\falkt\\AppData\\Local\\Temp\\tmp6wcyojwo\\latest_checkpoint.h5:  88%|████████▊ | 570M/649M [00:10<00:00, 91.4MiB/s]WARNING:urllib3.connectionpool:Connection pool is full, discarding connection: databricks-prod-storage-oregon.s3.us-west-2.amazonaws.com. Connection pool size: 10\n",
      "Uploading C:\\Users\\falkt\\AppData\\Local\\Temp\\tmp6wcyojwo\\latest_checkpoint.h5:  89%|████████▉ | 580M/649M [00:10<00:00, 91.4MiB/s]WARNING:urllib3.connectionpool:Connection pool is full, discarding connection: databricks-prod-storage-oregon.s3.us-west-2.amazonaws.com. Connection pool size: 10\n",
      "Uploading C:\\Users\\falkt\\AppData\\Local\\Temp\\tmp6wcyojwo\\latest_checkpoint.h5:  91%|█████████ | 590M/649M [00:10<00:00, 91.4MiB/s]WARNING:urllib3.connectionpool:Connection pool is full, discarding connection: databricks-prod-storage-oregon.s3.us-west-2.amazonaws.com. Connection pool size: 10\n",
      "Uploading C:\\Users\\falkt\\AppData\\Local\\Temp\\tmp6wcyojwo\\latest_checkpoint.h5:  92%|█████████▏| 600M/649M [00:10<00:00, 99.5MiB/s]WARNING:urllib3.connectionpool:Connection pool is full, discarding connection: databricks-prod-storage-oregon.s3.us-west-2.amazonaws.com. Connection pool size: 10\n",
      "Uploading C:\\Users\\falkt\\AppData\\Local\\Temp\\tmp6wcyojwo\\latest_checkpoint.h5:  94%|█████████▍| 610M/649M [00:10<00:00, 84.1MiB/s]WARNING:urllib3.connectionpool:Connection pool is full, discarding connection: databricks-prod-storage-oregon.s3.us-west-2.amazonaws.com. Connection pool size: 10\n",
      "Uploading C:\\Users\\falkt\\AppData\\Local\\Temp\\tmp6wcyojwo\\latest_checkpoint.h5:  96%|█████████▌| 620M/649M [00:11<00:00, 68.0MiB/s]WARNING:urllib3.connectionpool:Connection pool is full, discarding connection: databricks-prod-storage-oregon.s3.us-west-2.amazonaws.com. Connection pool size: 10\n",
      "Uploading C:\\Users\\falkt\\AppData\\Local\\Temp\\tmp6wcyojwo\\latest_checkpoint.h5:  97%|█████████▋| 630M/649M [00:11<00:00, 44.0MiB/s]WARNING:urllib3.connectionpool:Connection pool is full, discarding connection: databricks-prod-storage-oregon.s3.us-west-2.amazonaws.com. Connection pool size: 10\n",
      "Uploading C:\\Users\\falkt\\AppData\\Local\\Temp\\tmp6wcyojwo\\latest_checkpoint.h5:  99%|█████████▊| 640M/649M [00:11<00:00, 41.6MiB/s]WARNING:urllib3.connectionpool:Connection pool is full, discarding connection: databricks-prod-storage-oregon.s3.us-west-2.amazonaws.com. Connection pool size: 10\n",
      "Uploading C:\\Users\\falkt\\AppData\\Local\\Temp\\tmp6wcyojwo\\latest_checkpoint.h5: 100%|██████████| 649M/649M [00:12<00:00, 52.4MiB/s]\n"
     ]
    },
    {
     "name": "stdout",
     "output_type": "stream",
     "text": [
      "\u001b[1m1171/1171\u001b[0m \u001b[32m━━━━━━━━━━━━━━━━━━━━\u001b[0m\u001b[37m\u001b[0m \u001b[1m3710s\u001b[0m 3s/step - intent_accuracy: 0.5662 - loss: 15.5262 - phantom_slot_actionable_accuracy: 1.0000 - phantom_slot_intent_accuracy: 1.0000 - phantom_slot_pointer_accuracy: 0.8389 - phantom_slot_target_accuracy: 1.0000 - slot_actionable_accuracy: 0.9799 - slot_intent_accuracy: 0.6034 - slot_pointer_accuracy: 0.7801 - slot_type_accuracy: 0.4924 - val_intent_accuracy: 0.5786 - val_loss: 15.5577 - val_phantom_slot_actionable_accuracy: 1.0000 - val_phantom_slot_intent_accuracy: 1.0000 - val_phantom_slot_pointer_accuracy: 0.8618 - val_phantom_slot_target_accuracy: 1.0000 - val_slot_actionable_accuracy: 0.9788 - val_slot_intent_accuracy: 0.6197 - val_slot_pointer_accuracy: 0.7855 - val_slot_type_accuracy: 0.4694 - learning_rate: 6.0000e-05\n",
      "Epoch 12/24\n",
      "\u001b[1m1171/1171\u001b[0m \u001b[32m━━━━━━━━━━━━━━━━━━━━\u001b[0m\u001b[37m\u001b[0m \u001b[1m0s\u001b[0m 2s/step - intent_accuracy: 0.5700 - loss: 15.5205 - phantom_slot_actionable_accuracy: 1.0000 - phantom_slot_intent_accuracy: 1.0000 - phantom_slot_pointer_accuracy: 0.8169 - phantom_slot_target_accuracy: 1.0000 - slot_actionable_accuracy: 0.9809 - slot_intent_accuracy: 0.6167 - slot_pointer_accuracy: 0.7821 - slot_type_accuracy: 0.4794\n",
      "Epoch 12: saving model to model_epoch_12.keras\n",
      "\u001b[1m1171/1171\u001b[0m \u001b[32m━━━━━━━━━━━━━━━━━━━━\u001b[0m\u001b[37m\u001b[0m \u001b[1m3690s\u001b[0m 3s/step - intent_accuracy: 0.5700 - loss: 15.5205 - phantom_slot_actionable_accuracy: 1.0000 - phantom_slot_intent_accuracy: 1.0000 - phantom_slot_pointer_accuracy: 0.8169 - phantom_slot_target_accuracy: 1.0000 - slot_actionable_accuracy: 0.9809 - slot_intent_accuracy: 0.6167 - slot_pointer_accuracy: 0.7821 - slot_type_accuracy: 0.4794 - val_intent_accuracy: 0.5786 - val_loss: 15.5596 - val_phantom_slot_actionable_accuracy: 1.0000 - val_phantom_slot_intent_accuracy: 1.0000 - val_phantom_slot_pointer_accuracy: 0.7462 - val_phantom_slot_target_accuracy: 1.0000 - val_slot_actionable_accuracy: 0.9774 - val_slot_intent_accuracy: 0.6171 - val_slot_pointer_accuracy: 0.7706 - val_slot_type_accuracy: 0.5059 - learning_rate: 6.0000e-05\n",
      "Epoch 13/24\n",
      "\u001b[1m1171/1171\u001b[0m \u001b[32m━━━━━━━━━━━━━━━━━━━━\u001b[0m\u001b[37m\u001b[0m \u001b[1m0s\u001b[0m 2s/step - intent_accuracy: 0.5697 - loss: 15.4146 - phantom_slot_actionable_accuracy: 1.0000 - phantom_slot_intent_accuracy: 1.0000 - phantom_slot_pointer_accuracy: 0.8124 - phantom_slot_target_accuracy: 1.0000 - slot_actionable_accuracy: 0.9795 - slot_intent_accuracy: 0.6027 - slot_pointer_accuracy: 0.7829 - slot_type_accuracy: 0.5012\n",
      "Epoch 13: saving model to model_epoch_13.keras\n"
     ]
    },
    {
     "name": "stderr",
     "output_type": "stream",
     "text": [
      "WARNING:absl:You are saving your model as an HDF5 file via `model.save()` or `keras.saving.save_model(model)`. This file format is considered legacy. We recommend using instead the native Keras format, e.g. `model.save('my_model.keras')` or `keras.saving.save_model(model, 'my_model.keras')`. \n",
      "Uploading C:\\Users\\falkt\\AppData\\Local\\Temp\\tmpvs7t52ak\\latest_checkpoint.h5:  85%|████████▍ | 550M/649M [00:08<00:00, 112MiB/s]  WARNING:urllib3.connectionpool:Connection pool is full, discarding connection: databricks-prod-storage-oregon.s3.us-west-2.amazonaws.com. Connection pool size: 10\n",
      "Uploading C:\\Users\\falkt\\AppData\\Local\\Temp\\tmpvs7t52ak\\latest_checkpoint.h5:  86%|████████▋ | 560M/649M [00:09<00:00, 112MiB/s]WARNING:urllib3.connectionpool:Connection pool is full, discarding connection: databricks-prod-storage-oregon.s3.us-west-2.amazonaws.com. Connection pool size: 10\n",
      "Uploading C:\\Users\\falkt\\AppData\\Local\\Temp\\tmpvs7t52ak\\latest_checkpoint.h5:  88%|████████▊ | 570M/649M [00:09<00:01, 76.6MiB/s]WARNING:urllib3.connectionpool:Connection pool is full, discarding connection: databricks-prod-storage-oregon.s3.us-west-2.amazonaws.com. Connection pool size: 10\n",
      "Uploading C:\\Users\\falkt\\AppData\\Local\\Temp\\tmpvs7t52ak\\latest_checkpoint.h5:  89%|████████▉ | 580M/649M [00:09<00:01, 66.4MiB/s]WARNING:urllib3.connectionpool:Connection pool is full, discarding connection: databricks-prod-storage-oregon.s3.us-west-2.amazonaws.com. Connection pool size: 10\n",
      "Uploading C:\\Users\\falkt\\AppData\\Local\\Temp\\tmpvs7t52ak\\latest_checkpoint.h5:  91%|█████████ | 590M/649M [00:09<00:00, 66.4MiB/s]WARNING:urllib3.connectionpool:Connection pool is full, discarding connection: databricks-prod-storage-oregon.s3.us-west-2.amazonaws.com. Connection pool size: 10\n",
      "Uploading C:\\Users\\falkt\\AppData\\Local\\Temp\\tmpvs7t52ak\\latest_checkpoint.h5:  92%|█████████▏| 600M/649M [00:09<00:00, 66.4MiB/s]WARNING:urllib3.connectionpool:Connection pool is full, discarding connection: databricks-prod-storage-oregon.s3.us-west-2.amazonaws.com. Connection pool size: 10\n",
      "Uploading C:\\Users\\falkt\\AppData\\Local\\Temp\\tmpvs7t52ak\\latest_checkpoint.h5:  94%|█████████▍| 610M/649M [00:09<00:00, 97.5MiB/s]WARNING:urllib3.connectionpool:Connection pool is full, discarding connection: databricks-prod-storage-oregon.s3.us-west-2.amazonaws.com. Connection pool size: 10\n",
      "Uploading C:\\Users\\falkt\\AppData\\Local\\Temp\\tmpvs7t52ak\\latest_checkpoint.h5:  96%|█████████▌| 620M/649M [00:09<00:00, 97.5MiB/s]WARNING:urllib3.connectionpool:Connection pool is full, discarding connection: databricks-prod-storage-oregon.s3.us-west-2.amazonaws.com. Connection pool size: 10\n",
      "Uploading C:\\Users\\falkt\\AppData\\Local\\Temp\\tmpvs7t52ak\\latest_checkpoint.h5:  97%|█████████▋| 630M/649M [00:09<00:00, 111MiB/s] WARNING:urllib3.connectionpool:Connection pool is full, discarding connection: databricks-prod-storage-oregon.s3.us-west-2.amazonaws.com. Connection pool size: 10\n",
      "Uploading C:\\Users\\falkt\\AppData\\Local\\Temp\\tmpvs7t52ak\\latest_checkpoint.h5:  99%|█████████▊| 640M/649M [00:10<00:00, 110MiB/s]WARNING:urllib3.connectionpool:Connection pool is full, discarding connection: databricks-prod-storage-oregon.s3.us-west-2.amazonaws.com. Connection pool size: 10\n",
      "Uploading C:\\Users\\falkt\\AppData\\Local\\Temp\\tmpvs7t52ak\\latest_checkpoint.h5: 100%|██████████| 649M/649M [00:10<00:00, 65.3MiB/s]\n"
     ]
    },
    {
     "name": "stdout",
     "output_type": "stream",
     "text": [
      "\u001b[1m1171/1171\u001b[0m \u001b[32m━━━━━━━━━━━━━━━━━━━━\u001b[0m\u001b[37m\u001b[0m \u001b[1m3712s\u001b[0m 3s/step - intent_accuracy: 0.5697 - loss: 15.4146 - phantom_slot_actionable_accuracy: 1.0000 - phantom_slot_intent_accuracy: 1.0000 - phantom_slot_pointer_accuracy: 0.8124 - phantom_slot_target_accuracy: 1.0000 - slot_actionable_accuracy: 0.9795 - slot_intent_accuracy: 0.6027 - slot_pointer_accuracy: 0.7829 - slot_type_accuracy: 0.5012 - val_intent_accuracy: 0.5769 - val_loss: 15.5288 - val_phantom_slot_actionable_accuracy: 1.0000 - val_phantom_slot_intent_accuracy: 1.0000 - val_phantom_slot_pointer_accuracy: 0.8571 - val_phantom_slot_target_accuracy: 1.0000 - val_slot_actionable_accuracy: 0.9788 - val_slot_intent_accuracy: 0.5959 - val_slot_pointer_accuracy: 0.7974 - val_slot_type_accuracy: 0.4919 - learning_rate: 6.0000e-05\n",
      "Epoch 14/24\n",
      "\u001b[1m1171/1171\u001b[0m \u001b[32m━━━━━━━━━━━━━━━━━━━━\u001b[0m\u001b[37m\u001b[0m \u001b[1m0s\u001b[0m 2s/step - intent_accuracy: 0.5723 - loss: 15.4843 - phantom_slot_actionable_accuracy: 1.0000 - phantom_slot_intent_accuracy: 1.0000 - phantom_slot_pointer_accuracy: 0.8540 - phantom_slot_target_accuracy: 1.0000 - slot_actionable_accuracy: 0.9817 - slot_intent_accuracy: 0.6009 - slot_pointer_accuracy: 0.7967 - slot_type_accuracy: 0.4968\n",
      "Epoch 14: saving model to model_epoch_14.keras\n"
     ]
    },
    {
     "name": "stderr",
     "output_type": "stream",
     "text": [
      "WARNING:absl:You are saving your model as an HDF5 file via `model.save()` or `keras.saving.save_model(model)`. This file format is considered legacy. We recommend using instead the native Keras format, e.g. `model.save('my_model.keras')` or `keras.saving.save_model(model, 'my_model.keras')`. \n",
      "Uploading C:\\Users\\falkt\\AppData\\Local\\Temp\\tmpf3d5iipc\\latest_checkpoint.h5:  85%|████████▍ | 550M/649M [00:09<00:01, 82.7MiB/s] WARNING:urllib3.connectionpool:Connection pool is full, discarding connection: databricks-prod-storage-oregon.s3.us-west-2.amazonaws.com. Connection pool size: 10\n",
      "Uploading C:\\Users\\falkt\\AppData\\Local\\Temp\\tmpf3d5iipc\\latest_checkpoint.h5:  86%|████████▋ | 560M/649M [00:09<00:00, 95.7MiB/s]WARNING:urllib3.connectionpool:Connection pool is full, discarding connection: databricks-prod-storage-oregon.s3.us-west-2.amazonaws.com. Connection pool size: 10\n",
      "Uploading C:\\Users\\falkt\\AppData\\Local\\Temp\\tmpf3d5iipc\\latest_checkpoint.h5:  88%|████████▊ | 570M/649M [00:09<00:00, 95.7MiB/s]WARNING:urllib3.connectionpool:Connection pool is full, discarding connection: databricks-prod-storage-oregon.s3.us-west-2.amazonaws.com. Connection pool size: 10\n",
      "Uploading C:\\Users\\falkt\\AppData\\Local\\Temp\\tmpf3d5iipc\\latest_checkpoint.h5:  89%|████████▉ | 580M/649M [00:09<00:00, 109MiB/s] WARNING:urllib3.connectionpool:Connection pool is full, discarding connection: databricks-prod-storage-oregon.s3.us-west-2.amazonaws.com. Connection pool size: 10\n",
      "Uploading C:\\Users\\falkt\\AppData\\Local\\Temp\\tmpf3d5iipc\\latest_checkpoint.h5:  91%|█████████ | 590M/649M [00:09<00:00, 109MiB/s]WARNING:urllib3.connectionpool:Connection pool is full, discarding connection: databricks-prod-storage-oregon.s3.us-west-2.amazonaws.com. Connection pool size: 10\n",
      "Uploading C:\\Users\\falkt\\AppData\\Local\\Temp\\tmpf3d5iipc\\latest_checkpoint.h5:  92%|█████████▏| 600M/649M [00:09<00:00, 126MiB/s]WARNING:urllib3.connectionpool:Connection pool is full, discarding connection: databricks-prod-storage-oregon.s3.us-west-2.amazonaws.com. Connection pool size: 10\n",
      "Uploading C:\\Users\\falkt\\AppData\\Local\\Temp\\tmpf3d5iipc\\latest_checkpoint.h5:  94%|█████████▍| 610M/649M [00:09<00:00, 126MiB/s]WARNING:urllib3.connectionpool:Connection pool is full, discarding connection: databricks-prod-storage-oregon.s3.us-west-2.amazonaws.com. Connection pool size: 10\n",
      "Uploading C:\\Users\\falkt\\AppData\\Local\\Temp\\tmpf3d5iipc\\latest_checkpoint.h5:  96%|█████████▌| 620M/649M [00:09<00:00, 112MiB/s]WARNING:urllib3.connectionpool:Connection pool is full, discarding connection: databricks-prod-storage-oregon.s3.us-west-2.amazonaws.com. Connection pool size: 10\n",
      "Uploading C:\\Users\\falkt\\AppData\\Local\\Temp\\tmpf3d5iipc\\latest_checkpoint.h5:  97%|█████████▋| 630M/649M [00:09<00:00, 112MiB/s]WARNING:urllib3.connectionpool:Connection pool is full, discarding connection: databricks-prod-storage-oregon.s3.us-west-2.amazonaws.com. Connection pool size: 10\n",
      "WARNING:urllib3.connectionpool:Connection pool is full, discarding connection: databricks-prod-storage-oregon.s3.us-west-2.amazonaws.com. Connection pool size: 10\n",
      "Uploading C:\\Users\\falkt\\AppData\\Local\\Temp\\tmpf3d5iipc\\latest_checkpoint.h5: 100%|██████████| 649M/649M [00:09<00:00, 68.6MiB/s]\n"
     ]
    },
    {
     "name": "stdout",
     "output_type": "stream",
     "text": [
      "\u001b[1m1171/1171\u001b[0m \u001b[32m━━━━━━━━━━━━━━━━━━━━\u001b[0m\u001b[37m\u001b[0m \u001b[1m3733s\u001b[0m 3s/step - intent_accuracy: 0.5723 - loss: 15.4843 - phantom_slot_actionable_accuracy: 1.0000 - phantom_slot_intent_accuracy: 1.0000 - phantom_slot_pointer_accuracy: 0.8540 - phantom_slot_target_accuracy: 1.0000 - slot_actionable_accuracy: 0.9817 - slot_intent_accuracy: 0.6009 - slot_pointer_accuracy: 0.7967 - slot_type_accuracy: 0.4968 - val_intent_accuracy: 0.5793 - val_loss: 15.5213 - val_phantom_slot_actionable_accuracy: 1.0000 - val_phantom_slot_intent_accuracy: 1.0000 - val_phantom_slot_pointer_accuracy: 0.8164 - val_phantom_slot_target_accuracy: 1.0000 - val_slot_actionable_accuracy: 0.9803 - val_slot_intent_accuracy: 0.6338 - val_slot_pointer_accuracy: 0.7991 - val_slot_type_accuracy: 0.5295 - learning_rate: 6.0000e-05\n",
      "Epoch 15/24\n",
      "\u001b[1m1171/1171\u001b[0m \u001b[32m━━━━━━━━━━━━━━━━━━━━\u001b[0m\u001b[37m\u001b[0m \u001b[1m0s\u001b[0m 2s/step - intent_accuracy: 0.5725 - loss: 15.4788 - phantom_slot_actionable_accuracy: 1.0000 - phantom_slot_intent_accuracy: 1.0000 - phantom_slot_pointer_accuracy: 0.8311 - phantom_slot_target_accuracy: 1.0000 - slot_actionable_accuracy: 0.9822 - slot_intent_accuracy: 0.6427 - slot_pointer_accuracy: 0.7976 - slot_type_accuracy: 0.5342\n",
      "Epoch 15: saving model to model_epoch_15.keras\n"
     ]
    },
    {
     "name": "stderr",
     "output_type": "stream",
     "text": [
      "WARNING:absl:You are saving your model as an HDF5 file via `model.save()` or `keras.saving.save_model(model)`. This file format is considered legacy. We recommend using instead the native Keras format, e.g. `model.save('my_model.keras')` or `keras.saving.save_model(model, 'my_model.keras')`. \n",
      "Uploading C:\\Users\\falkt\\AppData\\Local\\Temp\\tmpzuwpf2tz\\latest_checkpoint.h5:  85%|████████▍ | 550M/649M [00:08<00:01, 85.2MiB/s] WARNING:urllib3.connectionpool:Connection pool is full, discarding connection: databricks-prod-storage-oregon.s3.us-west-2.amazonaws.com. Connection pool size: 10\n",
      "Uploading C:\\Users\\falkt\\AppData\\Local\\Temp\\tmpzuwpf2tz\\latest_checkpoint.h5:  86%|████████▋ | 560M/649M [00:09<00:01, 79.4MiB/s]WARNING:urllib3.connectionpool:Connection pool is full, discarding connection: databricks-prod-storage-oregon.s3.us-west-2.amazonaws.com. Connection pool size: 10\n",
      "Uploading C:\\Users\\falkt\\AppData\\Local\\Temp\\tmpzuwpf2tz\\latest_checkpoint.h5:  88%|████████▊ | 570M/649M [00:09<00:01, 79.4MiB/s]WARNING:urllib3.connectionpool:Connection pool is full, discarding connection: databricks-prod-storage-oregon.s3.us-west-2.amazonaws.com. Connection pool size: 10\n",
      "Uploading C:\\Users\\falkt\\AppData\\Local\\Temp\\tmpzuwpf2tz\\latest_checkpoint.h5:  89%|████████▉ | 580M/649M [00:09<00:00, 101MiB/s] WARNING:urllib3.connectionpool:Connection pool is full, discarding connection: databricks-prod-storage-oregon.s3.us-west-2.amazonaws.com. Connection pool size: 10\n",
      "Uploading C:\\Users\\falkt\\AppData\\Local\\Temp\\tmpzuwpf2tz\\latest_checkpoint.h5:  91%|█████████ | 590M/649M [00:09<00:00, 101MiB/s]WARNING:urllib3.connectionpool:Connection pool is full, discarding connection: databricks-prod-storage-oregon.s3.us-west-2.amazonaws.com. Connection pool size: 10\n",
      "Uploading C:\\Users\\falkt\\AppData\\Local\\Temp\\tmpzuwpf2tz\\latest_checkpoint.h5:  92%|█████████▏| 600M/649M [00:09<00:00, 101MiB/s]WARNING:urllib3.connectionpool:Connection pool is full, discarding connection: databricks-prod-storage-oregon.s3.us-west-2.amazonaws.com. Connection pool size: 10\n",
      "Uploading C:\\Users\\falkt\\AppData\\Local\\Temp\\tmpzuwpf2tz\\latest_checkpoint.h5:  94%|█████████▍| 610M/649M [00:09<00:00, 101MiB/s]WARNING:urllib3.connectionpool:Connection pool is full, discarding connection: databricks-prod-storage-oregon.s3.us-west-2.amazonaws.com. Connection pool size: 10\n",
      "Uploading C:\\Users\\falkt\\AppData\\Local\\Temp\\tmpzuwpf2tz\\latest_checkpoint.h5:  96%|█████████▌| 620M/649M [00:09<00:00, 102MiB/s]WARNING:urllib3.connectionpool:Connection pool is full, discarding connection: databricks-prod-storage-oregon.s3.us-west-2.amazonaws.com. Connection pool size: 10\n",
      "Uploading C:\\Users\\falkt\\AppData\\Local\\Temp\\tmpzuwpf2tz\\latest_checkpoint.h5:  97%|█████████▋| 630M/649M [00:09<00:00, 102MiB/s]WARNING:urllib3.connectionpool:Connection pool is full, discarding connection: databricks-prod-storage-oregon.s3.us-west-2.amazonaws.com. Connection pool size: 10\n",
      "Uploading C:\\Users\\falkt\\AppData\\Local\\Temp\\tmpzuwpf2tz\\latest_checkpoint.h5:  99%|█████████▊| 640M/649M [00:09<00:00, 102MiB/s]WARNING:urllib3.connectionpool:Connection pool is full, discarding connection: databricks-prod-storage-oregon.s3.us-west-2.amazonaws.com. Connection pool size: 10\n",
      "Uploading C:\\Users\\falkt\\AppData\\Local\\Temp\\tmpzuwpf2tz\\latest_checkpoint.h5: 100%|██████████| 649M/649M [00:13<00:00, 50.2MiB/s]\n"
     ]
    },
    {
     "name": "stdout",
     "output_type": "stream",
     "text": [
      "\u001b[1m1171/1171\u001b[0m \u001b[32m━━━━━━━━━━━━━━━━━━━━\u001b[0m\u001b[37m\u001b[0m \u001b[1m3731s\u001b[0m 3s/step - intent_accuracy: 0.5725 - loss: 15.4787 - phantom_slot_actionable_accuracy: 1.0000 - phantom_slot_intent_accuracy: 1.0000 - phantom_slot_pointer_accuracy: 0.8311 - phantom_slot_target_accuracy: 1.0000 - slot_actionable_accuracy: 0.9822 - slot_intent_accuracy: 0.6427 - slot_pointer_accuracy: 0.7976 - slot_type_accuracy: 0.5342 - val_intent_accuracy: 0.5813 - val_loss: 15.5142 - val_phantom_slot_actionable_accuracy: 1.0000 - val_phantom_slot_intent_accuracy: 1.0000 - val_phantom_slot_pointer_accuracy: 0.9646 - val_phantom_slot_target_accuracy: 1.0000 - val_slot_actionable_accuracy: 0.9794 - val_slot_intent_accuracy: 0.7335 - val_slot_pointer_accuracy: 0.7894 - val_slot_type_accuracy: 0.5640 - learning_rate: 6.0000e-05\n",
      "Epoch 16/24\n",
      "\u001b[1m1171/1171\u001b[0m \u001b[32m━━━━━━━━━━━━━━━━━━━━\u001b[0m\u001b[37m\u001b[0m \u001b[1m0s\u001b[0m 2s/step - intent_accuracy: 0.5714 - loss: 15.4371 - phantom_slot_actionable_accuracy: 1.0000 - phantom_slot_intent_accuracy: 1.0000 - phantom_slot_pointer_accuracy: 0.9637 - phantom_slot_target_accuracy: 1.0000 - slot_actionable_accuracy: 0.9823 - slot_intent_accuracy: 0.7494 - slot_pointer_accuracy: 0.7883 - slot_type_accuracy: 0.5852\n",
      "Epoch 16: saving model to model_epoch_16.keras\n"
     ]
    },
    {
     "name": "stderr",
     "output_type": "stream",
     "text": [
      "WARNING:absl:You are saving your model as an HDF5 file via `model.save()` or `keras.saving.save_model(model)`. This file format is considered legacy. We recommend using instead the native Keras format, e.g. `model.save('my_model.keras')` or `keras.saving.save_model(model, 'my_model.keras')`. \n",
      "Uploading C:\\Users\\falkt\\AppData\\Local\\Temp\\tmpdornrmcg\\latest_checkpoint.h5:  85%|████████▍ | 550M/649M [00:08<00:01, 97.8MiB/s] WARNING:urllib3.connectionpool:Connection pool is full, discarding connection: databricks-prod-storage-oregon.s3.us-west-2.amazonaws.com. Connection pool size: 10\n",
      "Uploading C:\\Users\\falkt\\AppData\\Local\\Temp\\tmpdornrmcg\\latest_checkpoint.h5:  86%|████████▋ | 560M/649M [00:09<00:01, 63.7MiB/s]WARNING:urllib3.connectionpool:Connection pool is full, discarding connection: databricks-prod-storage-oregon.s3.us-west-2.amazonaws.com. Connection pool size: 10\n",
      "Uploading C:\\Users\\falkt\\AppData\\Local\\Temp\\tmpdornrmcg\\latest_checkpoint.h5:  88%|████████▊ | 570M/649M [00:09<00:01, 63.7MiB/s]WARNING:urllib3.connectionpool:Connection pool is full, discarding connection: databricks-prod-storage-oregon.s3.us-west-2.amazonaws.com. Connection pool size: 10\n",
      "Uploading C:\\Users\\falkt\\AppData\\Local\\Temp\\tmpdornrmcg\\latest_checkpoint.h5:  89%|████████▉ | 580M/649M [00:09<00:00, 81.0MiB/s]WARNING:urllib3.connectionpool:Connection pool is full, discarding connection: databricks-prod-storage-oregon.s3.us-west-2.amazonaws.com. Connection pool size: 10\n",
      "Uploading C:\\Users\\falkt\\AppData\\Local\\Temp\\tmpdornrmcg\\latest_checkpoint.h5:  91%|█████████ | 590M/649M [00:09<00:00, 64.6MiB/s]WARNING:urllib3.connectionpool:Connection pool is full, discarding connection: databricks-prod-storage-oregon.s3.us-west-2.amazonaws.com. Connection pool size: 10\n",
      "Uploading C:\\Users\\falkt\\AppData\\Local\\Temp\\tmpdornrmcg\\latest_checkpoint.h5:  92%|█████████▏| 600M/649M [00:09<00:00, 64.6MiB/s]WARNING:urllib3.connectionpool:Connection pool is full, discarding connection: databricks-prod-storage-oregon.s3.us-west-2.amazonaws.com. Connection pool size: 10\n",
      "Uploading C:\\Users\\falkt\\AppData\\Local\\Temp\\tmpdornrmcg\\latest_checkpoint.h5:  94%|█████████▍| 610M/649M [00:09<00:00, 82.8MiB/s]WARNING:urllib3.connectionpool:Connection pool is full, discarding connection: databricks-prod-storage-oregon.s3.us-west-2.amazonaws.com. Connection pool size: 10\n",
      "Uploading C:\\Users\\falkt\\AppData\\Local\\Temp\\tmpdornrmcg\\latest_checkpoint.h5:  96%|█████████▌| 620M/649M [00:09<00:00, 82.8MiB/s]WARNING:urllib3.connectionpool:Connection pool is full, discarding connection: databricks-prod-storage-oregon.s3.us-west-2.amazonaws.com. Connection pool size: 10\n",
      "Uploading C:\\Users\\falkt\\AppData\\Local\\Temp\\tmpdornrmcg\\latest_checkpoint.h5:  97%|█████████▋| 630M/649M [00:09<00:00, 82.8MiB/s]WARNING:urllib3.connectionpool:Connection pool is full, discarding connection: databricks-prod-storage-oregon.s3.us-west-2.amazonaws.com. Connection pool size: 10\n",
      "Uploading C:\\Users\\falkt\\AppData\\Local\\Temp\\tmpdornrmcg\\latest_checkpoint.h5:  99%|█████████▊| 640M/649M [00:10<00:00, 103MiB/s] WARNING:urllib3.connectionpool:Connection pool is full, discarding connection: databricks-prod-storage-oregon.s3.us-west-2.amazonaws.com. Connection pool size: 10\n",
      "Uploading C:\\Users\\falkt\\AppData\\Local\\Temp\\tmpdornrmcg\\latest_checkpoint.h5: 100%|██████████| 649M/649M [00:10<00:00, 64.4MiB/s]\n"
     ]
    },
    {
     "name": "stdout",
     "output_type": "stream",
     "text": [
      "\u001b[1m1171/1171\u001b[0m \u001b[32m━━━━━━━━━━━━━━━━━━━━\u001b[0m\u001b[37m\u001b[0m \u001b[1m3738s\u001b[0m 3s/step - intent_accuracy: 0.5714 - loss: 15.4370 - phantom_slot_actionable_accuracy: 1.0000 - phantom_slot_intent_accuracy: 1.0000 - phantom_slot_pointer_accuracy: 0.9637 - phantom_slot_target_accuracy: 1.0000 - slot_actionable_accuracy: 0.9823 - slot_intent_accuracy: 0.7494 - slot_pointer_accuracy: 0.7883 - slot_type_accuracy: 0.5852 - val_intent_accuracy: 0.5821 - val_loss: 15.5020 - val_phantom_slot_actionable_accuracy: 1.0000 - val_phantom_slot_intent_accuracy: 1.0000 - val_phantom_slot_pointer_accuracy: 0.9650 - val_phantom_slot_target_accuracy: 1.0000 - val_slot_actionable_accuracy: 0.9795 - val_slot_intent_accuracy: 0.8041 - val_slot_pointer_accuracy: 0.7726 - val_slot_type_accuracy: 0.6698 - learning_rate: 5.8200e-05\n",
      "Epoch 17/24\n",
      "\u001b[1m1171/1171\u001b[0m \u001b[32m━━━━━━━━━━━━━━━━━━━━\u001b[0m\u001b[37m\u001b[0m \u001b[1m0s\u001b[0m 2s/step - intent_accuracy: 0.5738 - loss: 15.4425 - phantom_slot_actionable_accuracy: 1.0000 - phantom_slot_intent_accuracy: 1.0000 - phantom_slot_pointer_accuracy: 0.9634 - phantom_slot_target_accuracy: 1.0000 - slot_actionable_accuracy: 0.9827 - slot_intent_accuracy: 0.8070 - slot_pointer_accuracy: 0.7787 - slot_type_accuracy: 0.6758\n",
      "Epoch 17: saving model to model_epoch_17.keras\n",
      "\u001b[1m1171/1171\u001b[0m \u001b[32m━━━━━━━━━━━━━━━━━━━━\u001b[0m\u001b[37m\u001b[0m \u001b[1m3726s\u001b[0m 3s/step - intent_accuracy: 0.5738 - loss: 15.4425 - phantom_slot_actionable_accuracy: 1.0000 - phantom_slot_intent_accuracy: 1.0000 - phantom_slot_pointer_accuracy: 0.9634 - phantom_slot_target_accuracy: 1.0000 - slot_actionable_accuracy: 0.9827 - slot_intent_accuracy: 0.8070 - slot_pointer_accuracy: 0.7788 - slot_type_accuracy: 0.6758 - val_intent_accuracy: 0.5848 - val_loss: 15.5629 - val_phantom_slot_actionable_accuracy: 1.0000 - val_phantom_slot_intent_accuracy: 1.0000 - val_phantom_slot_pointer_accuracy: 0.9536 - val_phantom_slot_target_accuracy: 1.0000 - val_slot_actionable_accuracy: 0.9807 - val_slot_intent_accuracy: 0.8333 - val_slot_pointer_accuracy: 0.8267 - val_slot_type_accuracy: 0.7391 - learning_rate: 5.6454e-05\n",
      "Epoch 18/24\n",
      "\u001b[1m1171/1171\u001b[0m \u001b[32m━━━━━━━━━━━━━━━━━━━━\u001b[0m\u001b[37m\u001b[0m \u001b[1m0s\u001b[0m 2s/step - intent_accuracy: 0.5724 - loss: 15.4546 - phantom_slot_actionable_accuracy: 1.0000 - phantom_slot_intent_accuracy: 1.0000 - phantom_slot_pointer_accuracy: 0.9595 - phantom_slot_target_accuracy: 1.0000 - slot_actionable_accuracy: 0.9828 - slot_intent_accuracy: 0.8313 - slot_pointer_accuracy: 0.8218 - slot_type_accuracy: 0.7322\n",
      "Epoch 18: saving model to model_epoch_18.keras\n",
      "\u001b[1m1171/1171\u001b[0m \u001b[32m━━━━━━━━━━━━━━━━━━━━\u001b[0m\u001b[37m\u001b[0m \u001b[1m3732s\u001b[0m 3s/step - intent_accuracy: 0.5724 - loss: 15.4545 - phantom_slot_actionable_accuracy: 1.0000 - phantom_slot_intent_accuracy: 1.0000 - phantom_slot_pointer_accuracy: 0.9595 - phantom_slot_target_accuracy: 1.0000 - slot_actionable_accuracy: 0.9828 - slot_intent_accuracy: 0.8313 - slot_pointer_accuracy: 0.8218 - slot_type_accuracy: 0.7322 - val_intent_accuracy: 0.5844 - val_loss: 15.5142 - val_phantom_slot_actionable_accuracy: 1.0000 - val_phantom_slot_intent_accuracy: 1.0000 - val_phantom_slot_pointer_accuracy: 0.9892 - val_phantom_slot_target_accuracy: 1.0000 - val_slot_actionable_accuracy: 0.9790 - val_slot_intent_accuracy: 0.8597 - val_slot_pointer_accuracy: 0.8599 - val_slot_type_accuracy: 0.7647 - learning_rate: 5.4760e-05\n",
      "Epoch 19/24\n",
      "\u001b[1m1171/1171\u001b[0m \u001b[32m━━━━━━━━━━━━━━━━━━━━\u001b[0m\u001b[37m\u001b[0m \u001b[1m0s\u001b[0m 2s/step - intent_accuracy: 0.5778 - loss: 15.3965 - phantom_slot_actionable_accuracy: 1.0000 - phantom_slot_intent_accuracy: 1.0000 - phantom_slot_pointer_accuracy: 0.9886 - phantom_slot_target_accuracy: 1.0000 - slot_actionable_accuracy: 0.9827 - slot_intent_accuracy: 0.8554 - slot_pointer_accuracy: 0.8533 - slot_type_accuracy: 0.7619\n",
      "Epoch 19: saving model to model_epoch_19.keras\n"
     ]
    },
    {
     "name": "stderr",
     "output_type": "stream",
     "text": [
      "WARNING:absl:You are saving your model as an HDF5 file via `model.save()` or `keras.saving.save_model(model)`. This file format is considered legacy. We recommend using instead the native Keras format, e.g. `model.save('my_model.keras')` or `keras.saving.save_model(model, 'my_model.keras')`. \n",
      "Uploading C:\\Users\\falkt\\AppData\\Local\\Temp\\tmpdb1ysml5\\latest_checkpoint.h5:  85%|████████▍ | 550M/649M [00:08<00:00, 113MiB/s]  WARNING:urllib3.connectionpool:Connection pool is full, discarding connection: databricks-prod-storage-oregon.s3.us-west-2.amazonaws.com. Connection pool size: 10\n",
      "Uploading C:\\Users\\falkt\\AppData\\Local\\Temp\\tmpdb1ysml5\\latest_checkpoint.h5:  86%|████████▋ | 560M/649M [00:08<00:00, 113MiB/s]WARNING:urllib3.connectionpool:Connection pool is full, discarding connection: databricks-prod-storage-oregon.s3.us-west-2.amazonaws.com. Connection pool size: 10\n",
      "Uploading C:\\Users\\falkt\\AppData\\Local\\Temp\\tmpdb1ysml5\\latest_checkpoint.h5:  88%|████████▊ | 570M/649M [00:08<00:00, 113MiB/s]WARNING:urllib3.connectionpool:Connection pool is full, discarding connection: databricks-prod-storage-oregon.s3.us-west-2.amazonaws.com. Connection pool size: 10\n",
      "Uploading C:\\Users\\falkt\\AppData\\Local\\Temp\\tmpdb1ysml5\\latest_checkpoint.h5:  89%|████████▉ | 580M/649M [00:08<00:00, 111MiB/s]WARNING:urllib3.connectionpool:Connection pool is full, discarding connection: databricks-prod-storage-oregon.s3.us-west-2.amazonaws.com. Connection pool size: 10\n",
      "Uploading C:\\Users\\falkt\\AppData\\Local\\Temp\\tmpdb1ysml5\\latest_checkpoint.h5:  91%|█████████ | 590M/649M [00:08<00:00, 111MiB/s]WARNING:urllib3.connectionpool:Connection pool is full, discarding connection: databricks-prod-storage-oregon.s3.us-west-2.amazonaws.com. Connection pool size: 10\n",
      "Uploading C:\\Users\\falkt\\AppData\\Local\\Temp\\tmpdb1ysml5\\latest_checkpoint.h5:  92%|█████████▏| 600M/649M [00:09<00:00, 96.5MiB/s]WARNING:urllib3.connectionpool:Connection pool is full, discarding connection: databricks-prod-storage-oregon.s3.us-west-2.amazonaws.com. Connection pool size: 10\n",
      "Uploading C:\\Users\\falkt\\AppData\\Local\\Temp\\tmpdb1ysml5\\latest_checkpoint.h5:  94%|█████████▍| 610M/649M [00:09<00:00, 67.4MiB/s]WARNING:urllib3.connectionpool:Connection pool is full, discarding connection: databricks-prod-storage-oregon.s3.us-west-2.amazonaws.com. Connection pool size: 10\n",
      "Uploading C:\\Users\\falkt\\AppData\\Local\\Temp\\tmpdb1ysml5\\latest_checkpoint.h5:  96%|█████████▌| 620M/649M [00:09<00:00, 51.9MiB/s]WARNING:urllib3.connectionpool:Connection pool is full, discarding connection: databricks-prod-storage-oregon.s3.us-west-2.amazonaws.com. Connection pool size: 10\n",
      "Uploading C:\\Users\\falkt\\AppData\\Local\\Temp\\tmpdb1ysml5\\latest_checkpoint.h5:  97%|█████████▋| 630M/649M [00:09<00:00, 55.4MiB/s]WARNING:urllib3.connectionpool:Connection pool is full, discarding connection: databricks-prod-storage-oregon.s3.us-west-2.amazonaws.com. Connection pool size: 10\n",
      "Uploading C:\\Users\\falkt\\AppData\\Local\\Temp\\tmpdb1ysml5\\latest_checkpoint.h5:  99%|█████████▊| 640M/649M [00:11<00:00, 25.9MiB/s]WARNING:urllib3.connectionpool:Connection pool is full, discarding connection: databricks-prod-storage-oregon.s3.us-west-2.amazonaws.com. Connection pool size: 10\n",
      "Uploading C:\\Users\\falkt\\AppData\\Local\\Temp\\tmpdb1ysml5\\latest_checkpoint.h5: 100%|██████████| 649M/649M [00:11<00:00, 57.7MiB/s]\n"
     ]
    },
    {
     "name": "stdout",
     "output_type": "stream",
     "text": [
      "\u001b[1m1171/1171\u001b[0m \u001b[32m━━━━━━━━━━━━━━━━━━━━\u001b[0m\u001b[37m\u001b[0m \u001b[1m3754s\u001b[0m 3s/step - intent_accuracy: 0.5778 - loss: 15.3964 - phantom_slot_actionable_accuracy: 1.0000 - phantom_slot_intent_accuracy: 1.0000 - phantom_slot_pointer_accuracy: 0.9886 - phantom_slot_target_accuracy: 1.0000 - slot_actionable_accuracy: 0.9827 - slot_intent_accuracy: 0.8554 - slot_pointer_accuracy: 0.8533 - slot_type_accuracy: 0.7619 - val_intent_accuracy: 0.5869 - val_loss: 15.4846 - val_phantom_slot_actionable_accuracy: 1.0000 - val_phantom_slot_intent_accuracy: 1.0000 - val_phantom_slot_pointer_accuracy: 0.9892 - val_phantom_slot_target_accuracy: 1.0000 - val_slot_actionable_accuracy: 0.9787 - val_slot_intent_accuracy: 0.8921 - val_slot_pointer_accuracy: 0.8795 - val_slot_type_accuracy: 0.8137 - learning_rate: 5.3118e-05\n",
      "Epoch 20/24\n",
      "\u001b[1m1171/1171\u001b[0m \u001b[32m━━━━━━━━━━━━━━━━━━━━\u001b[0m\u001b[37m\u001b[0m \u001b[1m0s\u001b[0m 2s/step - intent_accuracy: 0.5791 - loss: 15.3264 - phantom_slot_actionable_accuracy: 1.0000 - phantom_slot_intent_accuracy: 1.0000 - phantom_slot_pointer_accuracy: 0.9896 - phantom_slot_target_accuracy: 1.0000 - slot_actionable_accuracy: 0.9825 - slot_intent_accuracy: 0.9020 - slot_pointer_accuracy: 0.8837 - slot_type_accuracy: 0.8186\n",
      "Epoch 20: saving model to model_epoch_20.keras\n"
     ]
    },
    {
     "name": "stderr",
     "output_type": "stream",
     "text": [
      "WARNING:absl:You are saving your model as an HDF5 file via `model.save()` or `keras.saving.save_model(model)`. This file format is considered legacy. We recommend using instead the native Keras format, e.g. `model.save('my_model.keras')` or `keras.saving.save_model(model, 'my_model.keras')`. \n",
      "Uploading C:\\Users\\falkt\\AppData\\Local\\Temp\\tmpz8e3z85s\\latest_checkpoint.h5:  85%|████████▍ | 550M/649M [00:09<00:01, 74.9MiB/s] WARNING:urllib3.connectionpool:Connection pool is full, discarding connection: databricks-prod-storage-oregon.s3.us-west-2.amazonaws.com. Connection pool size: 10\n",
      "Uploading C:\\Users\\falkt\\AppData\\Local\\Temp\\tmpz8e3z85s\\latest_checkpoint.h5:  86%|████████▋ | 560M/649M [00:09<00:01, 74.9MiB/s]WARNING:urllib3.connectionpool:Connection pool is full, discarding connection: databricks-prod-storage-oregon.s3.us-west-2.amazonaws.com. Connection pool size: 10\n",
      "Uploading C:\\Users\\falkt\\AppData\\Local\\Temp\\tmpz8e3z85s\\latest_checkpoint.h5:  88%|████████▊ | 570M/649M [00:09<00:00, 95.6MiB/s]WARNING:urllib3.connectionpool:Connection pool is full, discarding connection: databricks-prod-storage-oregon.s3.us-west-2.amazonaws.com. Connection pool size: 10\n",
      "Uploading C:\\Users\\falkt\\AppData\\Local\\Temp\\tmpz8e3z85s\\latest_checkpoint.h5:  89%|████████▉ | 580M/649M [00:09<00:00, 95.6MiB/s]WARNING:urllib3.connectionpool:Connection pool is full, discarding connection: databricks-prod-storage-oregon.s3.us-west-2.amazonaws.com. Connection pool size: 10\n",
      "Uploading C:\\Users\\falkt\\AppData\\Local\\Temp\\tmpz8e3z85s\\latest_checkpoint.h5:  91%|█████████ | 590M/649M [00:09<00:00, 94.3MiB/s]WARNING:urllib3.connectionpool:Connection pool is full, discarding connection: databricks-prod-storage-oregon.s3.us-west-2.amazonaws.com. Connection pool size: 10\n",
      "Uploading C:\\Users\\falkt\\AppData\\Local\\Temp\\tmpz8e3z85s\\latest_checkpoint.h5:  92%|█████████▏| 600M/649M [00:09<00:00, 94.3MiB/s]WARNING:urllib3.connectionpool:Connection pool is full, discarding connection: databricks-prod-storage-oregon.s3.us-west-2.amazonaws.com. Connection pool size: 10\n",
      "Uploading C:\\Users\\falkt\\AppData\\Local\\Temp\\tmpz8e3z85s\\latest_checkpoint.h5:  94%|█████████▍| 610M/649M [00:10<00:00, 94.3MiB/s]WARNING:urllib3.connectionpool:Connection pool is full, discarding connection: databricks-prod-storage-oregon.s3.us-west-2.amazonaws.com. Connection pool size: 10\n",
      "Uploading C:\\Users\\falkt\\AppData\\Local\\Temp\\tmpz8e3z85s\\latest_checkpoint.h5:  96%|█████████▌| 620M/649M [00:10<00:00, 94.3MiB/s]WARNING:urllib3.connectionpool:Connection pool is full, discarding connection: databricks-prod-storage-oregon.s3.us-west-2.amazonaws.com. Connection pool size: 10\n",
      "Uploading C:\\Users\\falkt\\AppData\\Local\\Temp\\tmpz8e3z85s\\latest_checkpoint.h5:  97%|█████████▋| 630M/649M [00:10<00:00, 132MiB/s] WARNING:urllib3.connectionpool:Connection pool is full, discarding connection: databricks-prod-storage-oregon.s3.us-west-2.amazonaws.com. Connection pool size: 10\n",
      "Uploading C:\\Users\\falkt\\AppData\\Local\\Temp\\tmpz8e3z85s\\latest_checkpoint.h5:  99%|█████████▊| 640M/649M [00:10<00:00, 132MiB/s]WARNING:urllib3.connectionpool:Connection pool is full, discarding connection: databricks-prod-storage-oregon.s3.us-west-2.amazonaws.com. Connection pool size: 10\n",
      "Uploading C:\\Users\\falkt\\AppData\\Local\\Temp\\tmpz8e3z85s\\latest_checkpoint.h5: 100%|██████████| 649M/649M [00:10<00:00, 63.1MiB/s]\n"
     ]
    },
    {
     "name": "stdout",
     "output_type": "stream",
     "text": [
      "\u001b[1m1171/1171\u001b[0m \u001b[32m━━━━━━━━━━━━━━━━━━━━\u001b[0m\u001b[37m\u001b[0m \u001b[1m3760s\u001b[0m 3s/step - intent_accuracy: 0.5791 - loss: 15.3263 - phantom_slot_actionable_accuracy: 1.0000 - phantom_slot_intent_accuracy: 1.0000 - phantom_slot_pointer_accuracy: 0.9896 - phantom_slot_target_accuracy: 1.0000 - slot_actionable_accuracy: 0.9825 - slot_intent_accuracy: 0.9021 - slot_pointer_accuracy: 0.8837 - slot_type_accuracy: 0.8186 - val_intent_accuracy: 0.5891 - val_loss: 15.4806 - val_phantom_slot_actionable_accuracy: 1.0000 - val_phantom_slot_intent_accuracy: 1.0000 - val_phantom_slot_pointer_accuracy: 0.9964 - val_phantom_slot_target_accuracy: 1.0000 - val_slot_actionable_accuracy: 0.9778 - val_slot_intent_accuracy: 0.9344 - val_slot_pointer_accuracy: 0.9019 - val_slot_type_accuracy: 0.8352 - learning_rate: 5.1524e-05\n",
      "Epoch 21/24\n",
      "\u001b[1m1171/1171\u001b[0m \u001b[32m━━━━━━━━━━━━━━━━━━━━\u001b[0m\u001b[37m\u001b[0m \u001b[1m0s\u001b[0m 2s/step - intent_accuracy: 0.5809 - loss: 15.1801 - phantom_slot_actionable_accuracy: 1.0000 - phantom_slot_intent_accuracy: 1.0000 - phantom_slot_pointer_accuracy: 0.9964 - phantom_slot_target_accuracy: 1.0000 - slot_actionable_accuracy: 0.9814 - slot_intent_accuracy: 0.9445 - slot_pointer_accuracy: 0.9183 - slot_type_accuracy: 0.8472\n",
      "Epoch 21: saving model to model_epoch_21.keras\n"
     ]
    },
    {
     "name": "stderr",
     "output_type": "stream",
     "text": [
      "WARNING:absl:You are saving your model as an HDF5 file via `model.save()` or `keras.saving.save_model(model)`. This file format is considered legacy. We recommend using instead the native Keras format, e.g. `model.save('my_model.keras')` or `keras.saving.save_model(model, 'my_model.keras')`. \n",
      "Uploading C:\\Users\\falkt\\AppData\\Local\\Temp\\tmp7apmdvrg\\latest_checkpoint.h5:  85%|████████▍ | 550M/649M [00:08<00:00, 122MiB/s]  WARNING:urllib3.connectionpool:Connection pool is full, discarding connection: databricks-prod-storage-oregon.s3.us-west-2.amazonaws.com. Connection pool size: 10\n",
      "Uploading C:\\Users\\falkt\\AppData\\Local\\Temp\\tmp7apmdvrg\\latest_checkpoint.h5:  86%|████████▋ | 560M/649M [00:08<00:00, 122MiB/s]WARNING:urllib3.connectionpool:Connection pool is full, discarding connection: databricks-prod-storage-oregon.s3.us-west-2.amazonaws.com. Connection pool size: 10\n",
      "Uploading C:\\Users\\falkt\\AppData\\Local\\Temp\\tmp7apmdvrg\\latest_checkpoint.h5:  88%|████████▊ | 570M/649M [00:09<00:00, 123MiB/s]WARNING:urllib3.connectionpool:Connection pool is full, discarding connection: databricks-prod-storage-oregon.s3.us-west-2.amazonaws.com. Connection pool size: 10\n",
      "Uploading C:\\Users\\falkt\\AppData\\Local\\Temp\\tmp7apmdvrg\\latest_checkpoint.h5:  89%|████████▉ | 580M/649M [00:09<00:00, 89.9MiB/s]WARNING:urllib3.connectionpool:Connection pool is full, discarding connection: databricks-prod-storage-oregon.s3.us-west-2.amazonaws.com. Connection pool size: 10\n",
      "Uploading C:\\Users\\falkt\\AppData\\Local\\Temp\\tmp7apmdvrg\\latest_checkpoint.h5:  91%|█████████ | 590M/649M [00:09<00:00, 89.9MiB/s]WARNING:urllib3.connectionpool:Connection pool is full, discarding connection: databricks-prod-storage-oregon.s3.us-west-2.amazonaws.com. Connection pool size: 10\n",
      "Uploading C:\\Users\\falkt\\AppData\\Local\\Temp\\tmp7apmdvrg\\latest_checkpoint.h5:  92%|█████████▏| 600M/649M [00:09<00:00, 92.2MiB/s]WARNING:urllib3.connectionpool:Connection pool is full, discarding connection: databricks-prod-storage-oregon.s3.us-west-2.amazonaws.com. Connection pool size: 10\n",
      "Uploading C:\\Users\\falkt\\AppData\\Local\\Temp\\tmp7apmdvrg\\latest_checkpoint.h5:  94%|█████████▍| 610M/649M [00:09<00:00, 86.6MiB/s]WARNING:urllib3.connectionpool:Connection pool is full, discarding connection: databricks-prod-storage-oregon.s3.us-west-2.amazonaws.com. Connection pool size: 10\n",
      "Uploading C:\\Users\\falkt\\AppData\\Local\\Temp\\tmp7apmdvrg\\latest_checkpoint.h5:  96%|█████████▌| 620M/649M [00:09<00:00, 86.6MiB/s]WARNING:urllib3.connectionpool:Connection pool is full, discarding connection: databricks-prod-storage-oregon.s3.us-west-2.amazonaws.com. Connection pool size: 10\n",
      "Uploading C:\\Users\\falkt\\AppData\\Local\\Temp\\tmp7apmdvrg\\latest_checkpoint.h5:  97%|█████████▋| 630M/649M [00:09<00:00, 90.3MiB/s]WARNING:urllib3.connectionpool:Connection pool is full, discarding connection: databricks-prod-storage-oregon.s3.us-west-2.amazonaws.com. Connection pool size: 10\n",
      "Uploading C:\\Users\\falkt\\AppData\\Local\\Temp\\tmp7apmdvrg\\latest_checkpoint.h5:  99%|█████████▊| 640M/649M [00:09<00:00, 90.3MiB/s]WARNING:urllib3.connectionpool:Connection pool is full, discarding connection: databricks-prod-storage-oregon.s3.us-west-2.amazonaws.com. Connection pool size: 10\n",
      "Uploading C:\\Users\\falkt\\AppData\\Local\\Temp\\tmp7apmdvrg\\latest_checkpoint.h5: 100%|██████████| 649M/649M [00:12<00:00, 55.4MiB/s]\n"
     ]
    },
    {
     "name": "stdout",
     "output_type": "stream",
     "text": [
      "\u001b[1m1171/1171\u001b[0m \u001b[32m━━━━━━━━━━━━━━━━━━━━\u001b[0m\u001b[37m\u001b[0m \u001b[1m3764s\u001b[0m 3s/step - intent_accuracy: 0.5809 - loss: 15.1802 - phantom_slot_actionable_accuracy: 1.0000 - phantom_slot_intent_accuracy: 1.0000 - phantom_slot_pointer_accuracy: 0.9964 - phantom_slot_target_accuracy: 1.0000 - slot_actionable_accuracy: 0.9814 - slot_intent_accuracy: 0.9445 - slot_pointer_accuracy: 0.9183 - slot_type_accuracy: 0.8472 - val_intent_accuracy: 0.5846 - val_loss: 15.4759 - val_phantom_slot_actionable_accuracy: 1.0000 - val_phantom_slot_intent_accuracy: 1.0000 - val_phantom_slot_pointer_accuracy: 0.9959 - val_phantom_slot_target_accuracy: 1.0000 - val_slot_actionable_accuracy: 0.9791 - val_slot_intent_accuracy: 0.9538 - val_slot_pointer_accuracy: 0.9406 - val_slot_type_accuracy: 0.8657 - learning_rate: 4.9978e-05\n",
      "Epoch 22/24\n",
      "\u001b[1m1171/1171\u001b[0m \u001b[32m━━━━━━━━━━━━━━━━━━━━\u001b[0m\u001b[37m\u001b[0m \u001b[1m0s\u001b[0m 2s/step - intent_accuracy: 0.5814 - loss: 15.0975 - phantom_slot_actionable_accuracy: 1.0000 - phantom_slot_intent_accuracy: 1.0000 - phantom_slot_pointer_accuracy: 0.9971 - phantom_slot_target_accuracy: 1.0000 - slot_actionable_accuracy: 0.9805 - slot_intent_accuracy: 0.9669 - slot_pointer_accuracy: 0.9519 - slot_type_accuracy: 0.8715\n",
      "Epoch 22: saving model to model_epoch_22.keras\n"
     ]
    },
    {
     "name": "stderr",
     "output_type": "stream",
     "text": [
      "WARNING:absl:You are saving your model as an HDF5 file via `model.save()` or `keras.saving.save_model(model)`. This file format is considered legacy. We recommend using instead the native Keras format, e.g. `model.save('my_model.keras')` or `keras.saving.save_model(model, 'my_model.keras')`. \n",
      "Uploading C:\\Users\\falkt\\AppData\\Local\\Temp\\tmpx5_pqst7\\latest_checkpoint.h5:  85%|████████▍ | 550M/649M [00:09<00:01, 92.0MiB/s] WARNING:urllib3.connectionpool:Connection pool is full, discarding connection: databricks-prod-storage-oregon.s3.us-west-2.amazonaws.com. Connection pool size: 10\n",
      "Uploading C:\\Users\\falkt\\AppData\\Local\\Temp\\tmpx5_pqst7\\latest_checkpoint.h5:  86%|████████▋ | 560M/649M [00:09<00:01, 92.0MiB/s]WARNING:urllib3.connectionpool:Connection pool is full, discarding connection: databricks-prod-storage-oregon.s3.us-west-2.amazonaws.com. Connection pool size: 10\n",
      "Uploading C:\\Users\\falkt\\AppData\\Local\\Temp\\tmpx5_pqst7\\latest_checkpoint.h5:  88%|████████▊ | 570M/649M [00:09<00:00, 92.0MiB/s]WARNING:urllib3.connectionpool:Connection pool is full, discarding connection: databricks-prod-storage-oregon.s3.us-west-2.amazonaws.com. Connection pool size: 10\n",
      "Uploading C:\\Users\\falkt\\AppData\\Local\\Temp\\tmpx5_pqst7\\latest_checkpoint.h5:  89%|████████▉ | 580M/649M [00:09<00:00, 106MiB/s] WARNING:urllib3.connectionpool:Connection pool is full, discarding connection: databricks-prod-storage-oregon.s3.us-west-2.amazonaws.com. Connection pool size: 10\n",
      "Uploading C:\\Users\\falkt\\AppData\\Local\\Temp\\tmpx5_pqst7\\latest_checkpoint.h5:  91%|█████████ | 590M/649M [00:09<00:00, 103MiB/s]WARNING:urllib3.connectionpool:Connection pool is full, discarding connection: databricks-prod-storage-oregon.s3.us-west-2.amazonaws.com. Connection pool size: 10\n",
      "Uploading C:\\Users\\falkt\\AppData\\Local\\Temp\\tmpx5_pqst7\\latest_checkpoint.h5:  92%|█████████▏| 600M/649M [00:09<00:00, 103MiB/s]WARNING:urllib3.connectionpool:Connection pool is full, discarding connection: databricks-prod-storage-oregon.s3.us-west-2.amazonaws.com. Connection pool size: 10\n",
      "Uploading C:\\Users\\falkt\\AppData\\Local\\Temp\\tmpx5_pqst7\\latest_checkpoint.h5:  94%|█████████▍| 610M/649M [00:09<00:00, 121MiB/s]WARNING:urllib3.connectionpool:Connection pool is full, discarding connection: databricks-prod-storage-oregon.s3.us-west-2.amazonaws.com. Connection pool size: 10\n",
      "Uploading C:\\Users\\falkt\\AppData\\Local\\Temp\\tmpx5_pqst7\\latest_checkpoint.h5:  96%|█████████▌| 620M/649M [00:09<00:00, 93.8MiB/s]WARNING:urllib3.connectionpool:Connection pool is full, discarding connection: databricks-prod-storage-oregon.s3.us-west-2.amazonaws.com. Connection pool size: 10\n",
      "Uploading C:\\Users\\falkt\\AppData\\Local\\Temp\\tmpx5_pqst7\\latest_checkpoint.h5:  97%|█████████▋| 630M/649M [00:09<00:00, 93.8MiB/s]WARNING:urllib3.connectionpool:Connection pool is full, discarding connection: databricks-prod-storage-oregon.s3.us-west-2.amazonaws.com. Connection pool size: 10\n",
      "Uploading C:\\Users\\falkt\\AppData\\Local\\Temp\\tmpx5_pqst7\\latest_checkpoint.h5:  99%|█████████▊| 640M/649M [00:10<00:00, 72.1MiB/s]WARNING:urllib3.connectionpool:Connection pool is full, discarding connection: databricks-prod-storage-oregon.s3.us-west-2.amazonaws.com. Connection pool size: 10\n",
      "Uploading C:\\Users\\falkt\\AppData\\Local\\Temp\\tmpx5_pqst7\\latest_checkpoint.h5: 100%|██████████| 649M/649M [00:11<00:00, 60.7MiB/s]\n"
     ]
    },
    {
     "name": "stdout",
     "output_type": "stream",
     "text": [
      "\u001b[1m1171/1171\u001b[0m \u001b[32m━━━━━━━━━━━━━━━━━━━━\u001b[0m\u001b[37m\u001b[0m \u001b[1m3771s\u001b[0m 3s/step - intent_accuracy: 0.5814 - loss: 15.0976 - phantom_slot_actionable_accuracy: 1.0000 - phantom_slot_intent_accuracy: 1.0000 - phantom_slot_pointer_accuracy: 0.9971 - phantom_slot_target_accuracy: 1.0000 - slot_actionable_accuracy: 0.9805 - slot_intent_accuracy: 0.9669 - slot_pointer_accuracy: 0.9519 - slot_type_accuracy: 0.8715 - val_intent_accuracy: 0.5890 - val_loss: 15.4759 - val_phantom_slot_actionable_accuracy: 1.0000 - val_phantom_slot_intent_accuracy: 1.0000 - val_phantom_slot_pointer_accuracy: 0.9984 - val_phantom_slot_target_accuracy: 1.0000 - val_slot_actionable_accuracy: 0.9793 - val_slot_intent_accuracy: 0.9689 - val_slot_pointer_accuracy: 0.9577 - val_slot_type_accuracy: 0.8676 - learning_rate: 4.8479e-05\n",
      "Epoch 23/24\n",
      "\u001b[1m1171/1171\u001b[0m \u001b[32m━━━━━━━━━━━━━━━━━━━━\u001b[0m\u001b[37m\u001b[0m \u001b[1m0s\u001b[0m 3s/step - intent_accuracy: 0.5831 - loss: 15.3777 - phantom_slot_actionable_accuracy: 1.0000 - phantom_slot_intent_accuracy: 1.0000 - phantom_slot_pointer_accuracy: 0.9985 - phantom_slot_target_accuracy: 1.0000 - slot_actionable_accuracy: 0.9838 - slot_intent_accuracy: 0.9706 - slot_pointer_accuracy: 0.9586 - slot_type_accuracy: 0.8711\n",
      "Epoch 23: saving model to model_epoch_23.keras\n",
      "\u001b[1m1171/1171\u001b[0m \u001b[32m━━━━━━━━━━━━━━━━━━━━\u001b[0m\u001b[37m\u001b[0m \u001b[1m3768s\u001b[0m 3s/step - intent_accuracy: 0.5831 - loss: 15.3776 - phantom_slot_actionable_accuracy: 1.0000 - phantom_slot_intent_accuracy: 1.0000 - phantom_slot_pointer_accuracy: 0.9985 - phantom_slot_target_accuracy: 1.0000 - slot_actionable_accuracy: 0.9838 - slot_intent_accuracy: 0.9706 - slot_pointer_accuracy: 0.9586 - slot_type_accuracy: 0.8711 - val_intent_accuracy: 0.5840 - val_loss: 15.5308 - val_phantom_slot_actionable_accuracy: 1.0000 - val_phantom_slot_intent_accuracy: 1.0000 - val_phantom_slot_pointer_accuracy: 0.9993 - val_phantom_slot_target_accuracy: 1.0000 - val_slot_actionable_accuracy: 0.9800 - val_slot_intent_accuracy: 0.9764 - val_slot_pointer_accuracy: 0.9756 - val_slot_type_accuracy: 0.8965 - learning_rate: 4.7025e-05\n",
      "Epoch 24/24\n",
      "\u001b[1m1171/1171\u001b[0m \u001b[32m━━━━━━━━━━━━━━━━━━━━\u001b[0m\u001b[37m\u001b[0m \u001b[1m0s\u001b[0m 3s/step - intent_accuracy: 0.5812 - loss: 15.3195 - phantom_slot_actionable_accuracy: 1.0000 - phantom_slot_intent_accuracy: 1.0000 - phantom_slot_pointer_accuracy: 0.9991 - phantom_slot_target_accuracy: 1.0000 - slot_actionable_accuracy: 0.9833 - slot_intent_accuracy: 0.9772 - slot_pointer_accuracy: 0.9743 - slot_type_accuracy: 0.8977\n",
      "Epoch 24: saving model to model_epoch_24.keras\n"
     ]
    },
    {
     "name": "stderr",
     "output_type": "stream",
     "text": [
      "2024/10/07 14:42:44 ERROR mlflow.utils.async_logging.async_logging_queue: Run Id a6bb372cc80342deac91a29ca05c6bdd: Failed to log run data: Exception: TEMPORARILY_UNAVAILABLE: The service at /api/2.0/mlflow/runs/log-batch is temporarily unavailable. Please try again later. [TraceId: -]\n",
      "2024/10/07 14:42:48 ERROR mlflow.utils.async_logging.async_logging_queue: Run Id a6bb372cc80342deac91a29ca05c6bdd: Failed to log run data: Exception: TEMPORARILY_UNAVAILABLE: The service at /api/2.0/mlflow/runs/log-batch is temporarily unavailable. Please try again later. [TraceId: -]\n",
      "2024/10/07 14:42:48 WARNING mlflow.utils.autologging_utils: Encountered unexpected error during autologging: TEMPORARILY_UNAVAILABLE: The service at /api/2.0/mlflow/runs/set-tag is temporarily unavailable. Please try again later. [TraceId: -]\n"
     ]
    },
    {
     "name": "stdout",
     "output_type": "stream",
     "text": [
      "\u001b[1m1171/1171\u001b[0m \u001b[32m━━━━━━━━━━━━━━━━━━━━\u001b[0m\u001b[37m\u001b[0m \u001b[1m3767s\u001b[0m 3s/step - intent_accuracy: 0.5812 - loss: 15.3194 - phantom_slot_actionable_accuracy: 1.0000 - phantom_slot_intent_accuracy: 1.0000 - phantom_slot_pointer_accuracy: 0.9991 - phantom_slot_target_accuracy: 1.0000 - slot_actionable_accuracy: 0.9833 - slot_intent_accuracy: 0.9772 - slot_pointer_accuracy: 0.9743 - slot_type_accuracy: 0.8977 - val_intent_accuracy: 0.5889 - val_loss: 15.4673 - val_phantom_slot_actionable_accuracy: 1.0000 - val_phantom_slot_intent_accuracy: 1.0000 - val_phantom_slot_pointer_accuracy: 0.9996 - val_phantom_slot_target_accuracy: 1.0000 - val_slot_actionable_accuracy: 0.9785 - val_slot_intent_accuracy: 0.9813 - val_slot_pointer_accuracy: 0.9800 - val_slot_type_accuracy: 0.9013 - learning_rate: 4.5614e-05\n"
     ]
    },
    {
     "name": "stderr",
     "output_type": "stream",
     "text": [
      "2024/10/07 14:42:48 WARNING mlflow.tensorflow: Failed to infer model signature: could not sample data to infer model signature: tuple index out of range\n",
      "2024/10/07 14:42:48 WARNING mlflow.tensorflow: You are saving a TensorFlow Core model or Keras model without a signature. Inference with mlflow.pyfunc.spark_udf() will not work unless the model's pyfunc representation accepts pandas DataFrames as inference inputs.\n",
      "2024/10/07 14:43:15 WARNING mlflow.utils.environment: Encountered an unexpected error while inferring pip requirements (model URI: C:\\Users\\falkt\\AppData\\Local\\Temp\\tmpgk2vxwde\\model, flavor: tensorflow). Fall back to return ['tensorflow==2.17.0', 'cloudpickle==3.0.0']. Set logging level to DEBUG to see the full traceback. \n",
      "2024/10/07 14:43:15 WARNING mlflow.models.model: Model logged without a signature and input example. Please set `input_example` parameter when logging the model to auto infer the model signature.\n",
      "Uploading artifacts:   0%|          | 0/7 [00:00<?, ?it/s]\n",
      "2024/10/07 14:43:16 WARNING mlflow.utils.autologging_utils: Encountered unexpected error during tensorflow autologging: TEMPORARILY_UNAVAILABLE: The service at /api/2.0/mlflow/artifacts/credentials-for-write is temporarily unavailable. Please try again later. [TraceId: -]\n"
     ]
    }
   ],
   "source": [
    "# optimizer\n",
    "opt = Adam(learning_rate=6e-5, epsilon=1e-08)\n",
    "\n",
    "# learning rate scheduler\n",
    "def scheduler(epoch, lr):\n",
    "    if epoch < 15:\n",
    "        return lr\n",
    "    else:\n",
    "        return lr * 0.97\n",
    "learning_rate_callback = LearningRateScheduler(scheduler)\n",
    "\n",
    "# Model checkpoint callback\n",
    "checkpoint_callback = ModelCheckpoint(\n",
    "    filepath=\"model_epoch_{epoch:02d}.keras\",  # Save the model with the epoch number in the filename\n",
    "    save_freq='epoch',\n",
    "    verbose=1 \n",
    ")\n",
    "\n",
    "# loss functions\n",
    "losses = [\n",
    "    CategoricalCrossentropy(name=\"intent_loss\"), \n",
    "    SparseCategoricalCrossentropy(from_logits=True, name=\"slot_type_loss\"),\n",
    "    SparseCategoricalCrossentropy(from_logits=True, name=\"slot_intent_loss\"),\n",
    "    BinaryCrossentropy(name=\"slot_actionable_loss\"), \n",
    "    SparseCategoricalCrossentropy(from_logits=True, name=\"slot_pointer_loss\"),\n",
    "    SparseCategoricalCrossentropy(from_logits=True, name=\"phantom_slot_target_loss\"),\n",
    "    SparseCategoricalCrossentropy(from_logits=True, name=\"phantom_slot_intent_loss\"),\n",
    "    BinaryCrossentropy(name=\"phantom_slot_actionable_loss\"), \n",
    "    SparseCategoricalCrossentropy(from_logits=True, name=\"phantom_slot_pointer_loss\"),\n",
    "]\n",
    "# metrics\n",
    "metrics = [\n",
    "    CategoricalAccuracy(name=\"intent_accuracy\"), \n",
    "    SparseCategoricalAccuracy(name=\"slot_type_accuracy\"),\n",
    "    SparseCategoricalAccuracy(name=\"slot_intent_accuracy\"),\n",
    "    BinaryAccuracy(name=\"slot_actionable_accuracy\"), \n",
    "    SparseCategoricalAccuracy(name=\"slot_pointer_accuracy\"),\n",
    "    SparseCategoricalAccuracy(name=\"phantom_slot_target_accuracy\"),\n",
    "    SparseCategoricalAccuracy(name=\"phantom_slot_intent_accuracy\"),\n",
    "    BinaryAccuracy(name=\"phantom_slot_actionable_accuracy\"), \n",
    "    SparseCategoricalAccuracy(name=\"phantom_slot_pointer_accuracy\"),\n",
    "]\n",
    "\n",
    "# compile model\n",
    "joint_model.compile(optimizer=opt, loss=losses, metrics=metrics)\n",
    "\n",
    "history = joint_model.fit(\n",
    "    x=inputs_train, \n",
    "    y=(intentOutputs_train, slot_type_map_train, slot_intent_map_train, slot_action_map_train, slot_pointers_map_train, phantom_target_map_train, phantom_intent_map_train, phantom_action_map_train, phantom_pointers_map_train), \n",
    "    validation_data=(inputs_val, (intentOutputs_val, slot_type_map_val, slot_intent_map_val, slot_action_map_val, slot_pointers_map_val, phantom_target_map_val, phantom_intent_map_val, phantom_action_map_val, phantom_pointers_map_val)), \n",
    "    epochs=24, \n",
    "    batch_size=30,\n",
    "    shuffle=True, \n",
    "    callbacks=[learning_rate_callback, checkpoint_callback],\n",
    ")"
   ]
  },
  {
   "cell_type": "markdown",
   "metadata": {},
   "source": [
    "### Evaluate Model\n",
    "\n",
    "keep in mind -> test slot accuracy will be higher than reality.\n",
    "        Because 90% of the data points are 0, it can just guess 0 and be right 85% of the time"
   ]
  },
  {
   "cell_type": "code",
   "execution_count": 11,
   "metadata": {},
   "outputs": [
    {
     "name": "stdout",
     "output_type": "stream",
     "text": [
      "\u001b[1m391/391\u001b[0m \u001b[32m━━━━━━━━━━━━━━━━━━━━\u001b[0m\u001b[37m\u001b[0m \u001b[1m830s\u001b[0m 2s/step - intent_accuracy: 0.5873 - loss: 15.4344 - phantom_slot_actionable_accuracy: 1.0000 - phantom_slot_intent_accuracy: 1.0000 - phantom_slot_pointer_accuracy: 0.9997 - phantom_slot_target_accuracy: 1.0000 - slot_actionable_accuracy: 0.9788 - slot_intent_accuracy: 0.9832 - slot_pointer_accuracy: 0.9816 - slot_type_accuracy: 0.9034\n",
      "Test Intent Accuracy: 0.5856971740722656\n",
      "Test Slot Type Accuracy: 0.9026625752449036\n",
      "Test Slot Intent Accuracy: 0.9825135469436646\n",
      "Test Slot Action Accuracy: 0.9782508015632629\n",
      "Test Slot Pointers Accuracy: 0.981245219707489\n",
      "Test Phantom Target Accuracy: 1.0\n",
      "Test Phantom Intent Accuracy: 1.0\n",
      "Test Phantom Action Accuracy: 1.0\n",
      "Test Phantom Pointers Accuracy: 0.9996238350868225\n"
     ]
    }
   ],
   "source": [
    "test_loss, test_intent_acc, test_slot_type, test_slot_intent, test_slot_action, test_slot_pointers, test_phantom_target, test_phantom_intent, test_phantom_action, test_phantom_pointers = joint_model.evaluate(x=inputs_test, y=(intentOutputs_test, slot_type_map_test, slot_intent_map_test, slot_action_map_test, slot_pointers_map_test, phantom_target_map_test, phantom_intent_map_test, phantom_action_map_test, phantom_pointers_map_test), batch_size=30)\n",
    "\n",
    "print(f\"Test Intent Accuracy: {test_intent_acc}\")\n",
    "print(f\"Test Slot Type Accuracy: {test_slot_type}\")\n",
    "print(f\"Test Slot Intent Accuracy: {test_slot_intent}\")\n",
    "print(f\"Test Slot Action Accuracy: {test_slot_action}\")\n",
    "print(f\"Test Slot Pointers Accuracy: {test_slot_pointers}\")\n",
    "print(f\"Test Phantom Target Accuracy: {test_phantom_target}\")\n",
    "print(f\"Test Phantom Intent Accuracy: {test_phantom_intent}\")\n",
    "print(f\"Test Phantom Action Accuracy: {test_phantom_action}\")\n",
    "print(f\"Test Phantom Pointers Accuracy: {test_phantom_pointers}\")"
   ]
  },
  {
   "cell_type": "markdown",
   "metadata": {},
   "source": [
    "### Inference"
   ]
  }
 ],
 "metadata": {
  "kernelspec": {
   "display_name": "Python 3",
   "language": "python",
   "name": "python3"
  },
  "language_info": {
   "codemirror_mode": {
    "name": "ipython",
    "version": 3
   },
   "file_extension": ".py",
   "mimetype": "text/x-python",
   "name": "python",
   "nbconvert_exporter": "python",
   "pygments_lexer": "ipython3",
   "version": "3.12.4"
  }
 },
 "nbformat": 4,
 "nbformat_minor": 2
}
